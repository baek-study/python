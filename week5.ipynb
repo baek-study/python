{
  "nbformat": 4,
  "nbformat_minor": 0,
  "metadata": {
    "colab": {
      "provenance": [],
      "authorship_tag": "ABX9TyMDLgWlPgYdD42+yEOjQX6k",
      "include_colab_link": true
    },
    "kernelspec": {
      "name": "python3",
      "display_name": "Python 3"
    },
    "language_info": {
      "name": "python"
    }
  },
  "cells": [
    {
      "cell_type": "markdown",
      "metadata": {
        "id": "view-in-github",
        "colab_type": "text"
      },
      "source": [
        "<a href=\"https://colab.research.google.com/github/baek-study/python/blob/main/week5.ipynb\" target=\"_parent\"><img src=\"https://colab.research.google.com/assets/colab-badge.svg\" alt=\"Open In Colab\"/></a>"
      ]
    },
    {
      "cell_type": "markdown",
      "source": [
        "# **PART1. 조건식을 위한 연산자**\n",
        "*   비교 연산자 : == != > < >= <=\n",
        "*   논리 연산자 : and or not\n",
        "\n"
      ],
      "metadata": {
        "id": "gQyTaBau28w_"
      }
    },
    {
      "cell_type": "markdown",
      "source": [
        "## **1.1 비교연산자**"
      ],
      "metadata": {
        "id": "_zLBDZOK2-w6"
      }
    },
    {
      "cell_type": "markdown",
      "source": [
        "### 수치 비교"
      ],
      "metadata": {
        "id": "WqnVfRu24sQQ"
      }
    },
    {
      "cell_type": "code",
      "execution_count": null,
      "metadata": {
        "colab": {
          "base_uri": "https://localhost:8080/"
        },
        "id": "4AEVTP1z26bg",
        "outputId": "cdab8426-f57e-4aef-ea09-9b8313040d39"
      },
      "outputs": [
        {
          "output_type": "stream",
          "name": "stdout",
          "text": [
            "첫번째 자료를 입력하세요:10\n",
            "두번째 자료를 입력하세요:20\n",
            "첫번째 숫자가 두번째 숫자보다 큰가: False\n",
            "첫번째 숫자와 두번째 숫자가 같은가: False\n"
          ]
        }
      ],
      "source": [
        "first = int(input(\"첫번째 자료를 입력하세요:\"))\n",
        "second = int(input(\"두번째 자료를 입력하세요:\"))\n",
        "\n",
        "# 비교 연산\n",
        "ds = first >= second\n",
        "print(\"첫번째 숫자가 두번째 숫자보다 큰가:\",ds)\n",
        "# 항등 연산\n",
        "ds = first == second\n",
        "print(\"첫번째 숫자와 두번째 숫자가 같은가:\",ds)\n"
      ]
    },
    {
      "cell_type": "markdown",
      "source": [
        "### 비수치 비교 - 문자열 비교"
      ],
      "metadata": {
        "id": "K8R71M532-0N"
      }
    },
    {
      "cell_type": "code",
      "source": [
        "s1 = \"Audrey Hepburn\"\n",
        "s2 = \"Audrey Hepburn\"\n",
        "print(s1 == s2)\n",
        "s3 = \"Grace Kelly\"\n",
        "print(s1 > s3)"
      ],
      "metadata": {
        "colab": {
          "base_uri": "https://localhost:8080/"
        },
        "id": "yzvGCYOP46Qe",
        "outputId": "4b79ec49-2ea5-47ab-929e-a9e1422acc2b"
      },
      "execution_count": null,
      "outputs": [
        {
          "output_type": "stream",
          "name": "stdout",
          "text": [
            "True\n",
            "False\n"
          ]
        }
      ]
    },
    {
      "cell_type": "markdown",
      "source": [
        "## **1.2 논리 연산**"
      ],
      "metadata": {
        "id": "KQSmToQi2_mn"
      }
    },
    {
      "cell_type": "code",
      "source": [
        "age = int(input('당신의 나이는'))\n",
        "\n",
        "res= age >= 0 and age <=120\n",
        "print(f'{age}은 유효한 나이인가? {res}')\n",
        "\n",
        "res= age < 0 or age >120\n",
        "print(f'{age}은 유효한 나이가 아닌가? {res}')\n",
        "print(f'{age}은 유효한 나이인가? {not res}')"
      ],
      "metadata": {
        "colab": {
          "base_uri": "https://localhost:8080/"
        },
        "id": "kdlBeZN45O_9",
        "outputId": "e18d0c96-0d35-433a-96b9-43906fbdcf43"
      },
      "execution_count": null,
      "outputs": [
        {
          "output_type": "stream",
          "name": "stdout",
          "text": [
            "당신의 나이는20\n",
            "20은 유효한 나이인가? True\n",
            "20은 유효한 나이가 아닌가? False\n",
            "20은 유효한 나이인가? True\n"
          ]
        }
      ]
    },
    {
      "cell_type": "markdown",
      "source": [
        "# **PART 2. 단순 if**\n",
        "\n",
        "\n",
        "*   if 조건평가식 : 문장\n",
        "*   if 조건 평가식 : 문장 else : 문장\n",
        "\n"
      ],
      "metadata": {
        "id": "EBLSUV7L5awU"
      }
    },
    {
      "cell_type": "markdown",
      "source": [
        "## **단순 if**"
      ],
      "metadata": {
        "id": "8a6FJToPDGHr"
      }
    },
    {
      "cell_type": "code",
      "source": [
        "# 사용자가 입력한 2개의 정수(n1, n2)의 비교\n",
        "n1= int(input(\"첫번째 자료 :\"))\n",
        "n2= int(input(\"두번째 자료:\"))\n",
        "\n",
        "if  n1>n2 :\n",
        "\tprint(f'{n1}은 {n2} 보다 크다')\n",
        "\n",
        "if  n1>n2 :\n",
        "    print(f'{n1}은 {n2} 보다 ', end=' ')\n",
        "    print('크다')\n",
        "\n",
        "print('끝')\n"
      ],
      "metadata": {
        "id": "sJZDlfD-536I",
        "colab": {
          "base_uri": "https://localhost:8080/"
        },
        "outputId": "00c492a8-d2c9-4ee9-8b06-f5d583ca0cb3"
      },
      "execution_count": null,
      "outputs": [
        {
          "output_type": "stream",
          "name": "stdout",
          "text": [
            "첫번째 자료 :12\n",
            "두번째 자료:9\n",
            "12은 9 보다 크다\n",
            "12은 9 보다  크다\n",
            "끝\n"
          ]
        }
      ]
    },
    {
      "cell_type": "code",
      "source": [
        "# 사용자가 입력한 점수(score)가 60 이상이면 pass\n",
        "print('#'*5, '단순 if', '#'*5)\n",
        "score = int(input('성적을 입력하시오 : '))\n",
        "\n",
        "if score >= 60 :\n",
        "  print(f'{score}는 pass')\n",
        "\n",
        "print('end!')"
      ],
      "metadata": {
        "colab": {
          "base_uri": "https://localhost:8080/"
        },
        "id": "H4yF9ymxEEmT",
        "outputId": "6625d332-99f6-4371-82bf-4b66ada5d068"
      },
      "execution_count": null,
      "outputs": [
        {
          "output_type": "stream",
          "name": "stdout",
          "text": [
            "##### 단순 if #####\n",
            "성적을 입력하시오 : 98\n",
            "98는 pass\n",
            "end!\n"
          ]
        }
      ]
    },
    {
      "cell_type": "markdown",
      "source": [
        "## **if ~~ else ~ 문**"
      ],
      "metadata": {
        "id": "icPqQEKXDowj"
      }
    },
    {
      "cell_type": "code",
      "source": [
        "# 사용자가 입력한 점수(score)가 60 이상이면 pass 그철치 않으면 fail\n",
        "print('#'*5, 'if ~ else 문', '#'*5)\n",
        "score = int(input('성적을 입력하시오 : '))\n",
        "\n",
        "if score >= 60 :\n",
        "  print(f'{score}는 pass')\n",
        "else :\n",
        "  print(f'{score}는 fail')\n",
        "\n",
        "print('end!')"
      ],
      "metadata": {
        "colab": {
          "base_uri": "https://localhost:8080/"
        },
        "id": "jgGpRk_3D6ZD",
        "outputId": "9e749602-93e7-4cfd-9f3c-86ee52e52652"
      },
      "execution_count": null,
      "outputs": [
        {
          "output_type": "stream",
          "name": "stdout",
          "text": [
            "##### if ~ else 문 #####\n",
            "성적을 입력하시오 : 88\n",
            "88는 pass\n",
            "end!\n"
          ]
        }
      ]
    },
    {
      "cell_type": "markdown",
      "source": [
        "# **PART 3. 중첩 if,  연속 if**\n",
        "\n",
        "\n",
        "*   중첩 if : if 안에 if가 들어 있음\n",
        "*   연속 if : 세개 이상의 조건\n",
        "\n"
      ],
      "metadata": {
        "id": "lFJvAl0M7ARF"
      }
    },
    {
      "cell_type": "markdown",
      "source": [
        "## **중첩 if : if 안에 if**"
      ],
      "metadata": {
        "id": "ytfeKG2qHPOj"
      }
    },
    {
      "cell_type": "code",
      "source": [
        "# 사용자가 입력한 점수(score)가 60 이상이고 80 이상이면 우수, 이하이면 보통, 60 미만이면 그철치 않으면 fail\n",
        "print('#'*5, '중첩 if', '#'*5)\n",
        "score = int(input('성적을 입력하시오 : '))\n",
        "\n",
        "if score >= 60 :\n",
        "  if score >= 80:\n",
        "     print(f'{score}는 우수')\n",
        "  else :\n",
        "     print(f'{score}는 보통')\n",
        "else :\n",
        "  print(f'{score}는 fail')\n",
        "\n",
        "print('end!')"
      ],
      "metadata": {
        "colab": {
          "base_uri": "https://localhost:8080/"
        },
        "id": "ymWH_cOnB9LH",
        "outputId": "fcf800d9-98ef-4219-a550-f0b7e782e82b"
      },
      "execution_count": 1,
      "outputs": [
        {
          "output_type": "stream",
          "name": "stdout",
          "text": [
            "##### 중첩 if #####\n",
            "성적을 입력하시오 : 88\n",
            "88는 우수\n",
            "end!\n"
          ]
        }
      ]
    },
    {
      "cell_type": "markdown",
      "source": [
        "## **연속 if : if ~ elif ~ else**"
      ],
      "metadata": {
        "id": "WjsbDHQKG-5Y"
      }
    },
    {
      "cell_type": "code",
      "source": [
        " # 사용자가 입력한 점수(score)가 90 이상이면 A, 그렃치 않고 80이상이면 B, 그렃치 않고 70 이상이면 C, 그렇치 않고 60 이상이면 D, 그럴치 않으면 F\n",
        " print('#'*5, 'if ~ else 문', '#'*5)\n",
        " score = int(input(\"점수를 입력하시오:\"))\n",
        "\n",
        " if score >= 90:\n",
        "     print(f'{score}는 A학점 입니다.')\n",
        " elif score >= 80:\n",
        "     print(f'{score}는 B학점 입니다.')\n",
        " elif score >= 70:\n",
        "     print(f'{score}는 C학점 입니다.')\n",
        " elif score >= 60:\n",
        "     print(f'{score}는 D학점 입니다.')\n",
        " else:\n",
        "     print(f'{score}는 F학점 입니다.')\n",
        "\n",
        "print('end!')"
      ],
      "metadata": {
        "id": "vZqERoRC7gV9",
        "colab": {
          "base_uri": "https://localhost:8080/"
        },
        "outputId": "6257d00e-c535-4b76-f35f-dcac37bca1bd"
      },
      "execution_count": null,
      "outputs": [
        {
          "output_type": "stream",
          "name": "stdout",
          "text": [
            "##### if ~ else 문 #####\n",
            "점수를 입력하시오:88\n",
            "88는 B학점 입니다.\n",
            "end!\n"
          ]
        }
      ]
    }
  ]
}