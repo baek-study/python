{
  "nbformat": 4,
  "nbformat_minor": 0,
  "metadata": {
    "colab": {
      "provenance": [],
      "authorship_tag": "ABX9TyOrOEmaBfcQzaoj3ATmdnQZ",
      "include_colab_link": true
    },
    "kernelspec": {
      "name": "python3",
      "display_name": "Python 3"
    },
    "language_info": {
      "name": "python"
    }
  },
  "cells": [
    {
      "cell_type": "markdown",
      "metadata": {
        "id": "view-in-github",
        "colab_type": "text"
      },
      "source": [
        "<a href=\"https://colab.research.google.com/github/baek-study/python/blob/main/week9.ipynb\" target=\"_parent\"><img src=\"https://colab.research.google.com/assets/colab-badge.svg\" alt=\"Open In Colab\"/></a>"
      ]
    },
    {
      "cell_type": "markdown",
      "source": [
        "# **<span style=\"color:blue\"> PART 1 함수</span>**\n",
        "\n",
        "\n",
        "*   함수는 이름을 가지면, 입력을 받아서 작업을 수행후 결과를 반환 <br>\n",
        "&emsp; - 함수이름, 입력(매개변수), 결과(return값)"
      ],
      "metadata": {
        "id": "PgviXT8jtDfa"
      }
    },
    {
      "cell_type": "markdown",
      "source": [
        "## 함수 정의 - 만들기\n",
        "\n",
        "\n",
        "*   def 함수이름(매개변수) :<br>\n",
        "&emsp; 문장들 <br>\n",
        "&emsp; return 값\n",
        "\n"
      ],
      "metadata": {
        "id": "xh92r3-6tPgZ"
      }
    },
    {
      "cell_type": "code",
      "source": [
        "# return 값 없는 함수 정의\n",
        "def print_msg(name) :\n",
        "      print(\"안녕하세요?\")\n",
        "      print(name+\"님! 축하드립니다.\")\n",
        "\n",
        "# return 값 있는 함수 정의\n",
        "def get_area(radius) :\n",
        "     area = 3.14*radius**2\n",
        "     return area"
      ],
      "metadata": {
        "id": "6Hc0fFmVtlH5"
      },
      "execution_count": 2,
      "outputs": []
    },
    {
      "cell_type": "markdown",
      "source": [
        "##  함수 호출 - 부르기\n",
        "\n",
        "\n",
        "*   수행할 함수의 이름을 써주는 것\n",
        "*   함수이름(인수1, 인수2, .... 인수 n)\n",
        "\n",
        "\n",
        "\n",
        "\n"
      ],
      "metadata": {
        "id": "Jwd5ptCCuLWx"
      }
    },
    {
      "cell_type": "code",
      "source": [
        "print_msg(\"mju\")       # 매개변수 name -  인수 \"mju\"\n",
        "print_msg(\"명지\")      # 매개변수 name - 인수 \"명지\"\n",
        "result = get_area(10)  # 매개변수 radius - 인수 10\n",
        "print(f'10의 넓이는 {result}입니다.')"
      ],
      "metadata": {
        "colab": {
          "base_uri": "https://localhost:8080/"
        },
        "id": "eyI2XhEUuphB",
        "outputId": "5265bb0f-035b-4f83-ef9a-5f1c950a4340"
      },
      "execution_count": 4,
      "outputs": [
        {
          "output_type": "stream",
          "name": "stdout",
          "text": [
            "안녕하세요?\n",
            "mju님! 축하드립니다.\n",
            "안녕하세요?\n",
            "명지님! 축하드립니다.\n",
            "10의 넓이는 314.0입니다.\n"
          ]
        }
      ]
    },
    {
      "cell_type": "markdown",
      "source": [
        " # **PART 2 매개변수/인수/반환값**\n",
        "\n",
        "\n",
        "*   매개변수(parameter) : 함수 정의에서 인수를 전달받는 변수\n",
        "*  인수(argument) : 함수 호출시 함수에게 전달되는 값\n",
        "*   반환 값(return value) : 함수 수행의 결과로 호출자에게 돌려주는 값\n",
        "\n"
      ],
      "metadata": {
        "id": "xhXqqgddaR13"
      }
    },
    {
      "cell_type": "code",
      "source": [
        "# 함수 정의\n",
        "def get_area(radius) :              # 매개변수 - radius\n",
        "     area = 3.14*radius**2\n",
        "     return area                    # 반환값 - area\n",
        "\n",
        "# 함수 호출\n",
        "result1 = get_area(10)             # 인수 - 10\n",
        "result2 = get_area(100)            # 인수 - 100"
      ],
      "metadata": {
        "id": "-0lkQ94sZ2kA"
      },
      "execution_count": 6,
      "outputs": []
    },
    {
      "cell_type": "code",
      "source": [
        "# 함수 정의\n",
        "def get_sum(first, second, third) :  # 매개변수 - first, second, third\n",
        "    sum = first + second + third\n",
        "    return sum                      # 반환값 - sum\n",
        "\n",
        "# 함수 호출\n",
        "result1 = get_sum(10, 20, 30)            # 인수 - 10, 20, 30\n",
        "result2 = get_sum(22, 54, 35)            # 인수 - 22, 54, 35"
      ],
      "metadata": {
        "id": "CHzCms0Jw38O"
      },
      "execution_count": 7,
      "outputs": []
    },
    {
      "cell_type": "markdown",
      "source": [
        "# **PART 3 매개변수 종류**\n",
        "\n",
        "\n",
        "*   키워드 인수, 디폴트 인수, 가변 인수\n",
        "\n",
        "\n"
      ],
      "metadata": {
        "id": "3Gk_gDW7bmV4"
      }
    },
    {
      "cell_type": "markdown",
      "source": [
        "#### 1. 키워드 인수 : 함수 호출시 매개변수 이름을 지정\n",
        "ex) print('hi', end = ' ') - 매개변수 이름 end 사용"
      ],
      "metadata": {
        "id": "uFTMvvPa1Lrc"
      }
    },
    {
      "cell_type": "code",
      "source": [
        "# 함수 정의\n",
        "def get_sum(first, second, third) :  # 매개변수 - first, second, third\n",
        "    print(f'first = {first}, second = {second}, third = {third}')\n",
        "    sum = first + second + third\n",
        "    return sum                      # 반환값 - sum\n",
        "\n",
        "# 함수 호출 - 키워드 인수 사용 - 순서 무관.\n",
        "result1 = get_sum(10, 20, 30)\n",
        "result2= get_sum(first = 10, second = 20, third = 30)\n",
        "result3= get_sum(third = 30, second = 20, first = 10)\n",
        "result2= get_sum(10, third = 30, second = 20)"
      ],
      "metadata": {
        "colab": {
          "base_uri": "https://localhost:8080/"
        },
        "id": "9NcINSog1opF",
        "outputId": "98597993-79bd-42c4-af0e-23730ff82eb9"
      },
      "execution_count": 13,
      "outputs": [
        {
          "output_type": "stream",
          "name": "stdout",
          "text": [
            "first = 10, second = 20, third = 30\n",
            "first = 10, second = 20, third = 30\n",
            "first = 10, second = 20, third = 30\n"
          ]
        }
      ]
    },
    {
      "cell_type": "code",
      "source": [
        "# 키워드 인수 다음에 일반 인수 사용 불가\n",
        "result1= get_sum(first = 30, 20, 30)"
      ],
      "metadata": {
        "colab": {
          "base_uri": "https://localhost:8080/",
          "height": 106
        },
        "id": "5Fe_hfCE2eLM",
        "outputId": "e716ddab-1449-475b-c439-7a486df72193"
      },
      "execution_count": 14,
      "outputs": [
        {
          "output_type": "error",
          "ename": "SyntaxError",
          "evalue": "positional argument follows keyword argument (<ipython-input-14-dc43cfc02427>, line 1)",
          "traceback": [
            "\u001b[0;36m  File \u001b[0;32m\"<ipython-input-14-dc43cfc02427>\"\u001b[0;36m, line \u001b[0;32m1\u001b[0m\n\u001b[0;31m    result1= get_sum(first = 30, 20, 30)      # 키워드 인수 사용\u001b[0m\n\u001b[0m                                       ^\u001b[0m\n\u001b[0;31mSyntaxError\u001b[0m\u001b[0;31m:\u001b[0m positional argument follows keyword argument\n"
          ]
        }
      ]
    },
    {
      "cell_type": "markdown",
      "source": [
        "#### 2. 디폴트 인수 : 매개변수가 기본값을 가지는 경우\n",
        "- 함수 정의시 '매개변수 = 값' 으로 정의\n",
        "- 함수 호출시 인수가 없을 때 기본값 가짐\n",
        "- ex) print('hi') 시 end는 기본값 '\\n' 을 가짐"
      ],
      "metadata": {
        "id": "m6pZxNkl3Uy8"
      }
    },
    {
      "cell_type": "code",
      "source": [
        "# 함수 정의 - 매개변수가 기본값 가짐\n",
        "def get_area(radius=10) :\n",
        "     print(f'radius ={radius}')\n",
        "     area = 3.14*radius**2\n",
        "     return area\n",
        "\n",
        "# 함수 호출\n",
        "result1 = get_area()         # 인수 없는 경우 매개변수 기본값 10\n",
        "result2 = get_area(100)      # 인수 있는 경우 기존 기본값 무시"
      ],
      "metadata": {
        "colab": {
          "base_uri": "https://localhost:8080/"
        },
        "id": "OVXtlXnY3hVd",
        "outputId": "62f34ea2-2b2a-4fb0-9130-709e2f3b9926"
      },
      "execution_count": 17,
      "outputs": [
        {
          "output_type": "stream",
          "name": "stdout",
          "text": [
            "radius =10\n",
            "radius =100\n"
          ]
        }
      ]
    },
    {
      "cell_type": "markdown",
      "source": [
        "#### 3. 가변 인수 : 인수의 개수가 정해 지지 않음\n",
        "- 함수 정의시 매개변수 앞에 *를 붙임\n",
        "- ex) print(2), print(2,3,4) 처럼 인수 개수 가변"
      ],
      "metadata": {
        "id": "HZfv4nlA4QrN"
      }
    },
    {
      "cell_type": "code",
      "source": [
        "# 함수 정의 - 가변 인수 args\n",
        "def varExam(*args) :\n",
        "  print(args)\n",
        "\n",
        "# 함수 호출\n",
        "varExam(10)           # 하나 값 호출\n",
        "varExam(10, 20, 30)   # 여러개 값 호출"
      ],
      "metadata": {
        "colab": {
          "base_uri": "https://localhost:8080/"
        },
        "id": "qsWslO5Z4QRl",
        "outputId": "466c2bab-7630-4e4d-a4c4-c5c5dcef5f1e"
      },
      "execution_count": 19,
      "outputs": [
        {
          "output_type": "stream",
          "name": "stdout",
          "text": [
            "(10,)\n",
            "(10, 20, 30)\n"
          ]
        }
      ]
    }
  ]
}