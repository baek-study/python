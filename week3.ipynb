{
  "nbformat": 4,
  "nbformat_minor": 0,
  "metadata": {
    "colab": {
      "provenance": [],
      "toc_visible": true,
      "authorship_tag": "ABX9TyOf2daQtRExmrl50r7KZeXi",
      "include_colab_link": true
    },
    "kernelspec": {
      "name": "python3",
      "display_name": "Python 3"
    },
    "language_info": {
      "name": "python"
    }
  },
  "cells": [
    {
      "cell_type": "markdown",
      "metadata": {
        "id": "view-in-github",
        "colab_type": "text"
      },
      "source": [
        "<a href=\"https://colab.research.google.com/github/baek-study/python/blob/main/week3.ipynb\" target=\"_parent\"><img src=\"https://colab.research.google.com/assets/colab-badge.svg\" alt=\"Open In Colab\"/></a>"
      ]
    },
    {
      "cell_type": "markdown",
      "source": [
        "# **1부 변수(variable)**\n",
        "변수선언, type()-자료형, id()-참조값, 기호상수"
      ],
      "metadata": {
        "id": "f-xkcedf6rli"
      }
    },
    {
      "cell_type": "markdown",
      "source": [
        "## **1.1 변수 선언(정의)**\n",
        "변수에 값이 저장되면서 자료형 결정"
      ],
      "metadata": {
        "id": "8qPQebzSARjc"
      }
    },
    {
      "cell_type": "code",
      "source": [
        "x=100\n",
        "y=3.14\n",
        "z='hello'\n",
        "print('x=', x, 'y=', y,'z=', z)"
      ],
      "metadata": {
        "colab": {
          "base_uri": "https://localhost:8080/"
        },
        "id": "Kyd6GMIx65Bq",
        "outputId": "008e267f-a6e0-4562-ad42-02dd748be163"
      },
      "execution_count": null,
      "outputs": [
        {
          "output_type": "stream",
          "name": "stdout",
          "text": [
            "x= 100 y= 3.14 z= hello\n"
          ]
        }
      ]
    },
    {
      "cell_type": "markdown",
      "source": [
        "## **1.2 변수의 자료형 - type() 함수**"
      ],
      "metadata": {
        "id": "Sw9_bUhq7KNh"
      }
    },
    {
      "cell_type": "code",
      "source": [
        "type(x)"
      ],
      "metadata": {
        "colab": {
          "base_uri": "https://localhost:8080/"
        },
        "id": "6Q5KseXt7Rdy",
        "outputId": "4464f6fc-e270-46e3-e92f-cb63c3f84be2"
      },
      "execution_count": null,
      "outputs": [
        {
          "output_type": "execute_result",
          "data": {
            "text/plain": [
              "int"
            ]
          },
          "metadata": {},
          "execution_count": 4
        }
      ]
    },
    {
      "cell_type": "code",
      "source": [
        "type(y)"
      ],
      "metadata": {
        "colab": {
          "base_uri": "https://localhost:8080/"
        },
        "id": "-8KPWe2B7ZLp",
        "outputId": "4598cb9f-797d-46ab-c652-835f59dead49"
      },
      "execution_count": null,
      "outputs": [
        {
          "output_type": "execute_result",
          "data": {
            "text/plain": [
              "float"
            ]
          },
          "metadata": {},
          "execution_count": 5
        }
      ]
    },
    {
      "cell_type": "code",
      "source": [
        "type(z)"
      ],
      "metadata": {
        "colab": {
          "base_uri": "https://localhost:8080/"
        },
        "id": "TxemBYxW7ZXp",
        "outputId": "7c015327-d57a-4a45-f4c3-fabadcf88358"
      },
      "execution_count": null,
      "outputs": [
        {
          "output_type": "execute_result",
          "data": {
            "text/plain": [
              "str"
            ]
          },
          "metadata": {},
          "execution_count": 6
        }
      ]
    },
    {
      "cell_type": "markdown",
      "source": [
        "## **1.3 변수의 참조값(주소) - id() 함수**"
      ],
      "metadata": {
        "id": "QHO1l3LB7fAa"
      }
    },
    {
      "cell_type": "code",
      "source": [
        "id(x)"
      ],
      "metadata": {
        "colab": {
          "base_uri": "https://localhost:8080/"
        },
        "id": "4bc6IKBo7k4R",
        "outputId": "09e4aaea-7618-4a93-9340-7fcf41ab9458"
      },
      "execution_count": null,
      "outputs": [
        {
          "output_type": "execute_result",
          "data": {
            "text/plain": [
              "138677460372816"
            ]
          },
          "metadata": {},
          "execution_count": 7
        }
      ]
    },
    {
      "cell_type": "code",
      "source": [
        "id(y)"
      ],
      "metadata": {
        "colab": {
          "base_uri": "https://localhost:8080/"
        },
        "id": "rQ-rhbBj7pbJ",
        "outputId": "9ad32b74-f8ea-4602-cee1-96b6d26f8407"
      },
      "execution_count": null,
      "outputs": [
        {
          "output_type": "execute_result",
          "data": {
            "text/plain": [
              "138677032762768"
            ]
          },
          "metadata": {},
          "execution_count": 8
        }
      ]
    },
    {
      "cell_type": "code",
      "source": [
        "id(z)"
      ],
      "metadata": {
        "colab": {
          "base_uri": "https://localhost:8080/"
        },
        "id": "-DmKKH9D7uda",
        "outputId": "09aa33b7-8a27-4a78-dbff-3756cba1e657"
      },
      "execution_count": null,
      "outputs": [
        {
          "output_type": "execute_result",
          "data": {
            "text/plain": [
              "138677034243056"
            ]
          },
          "metadata": {},
          "execution_count": 9
        }
      ]
    },
    {
      "cell_type": "markdown",
      "source": [
        "## **1.4 기호상수**\n",
        "파이썬에서는  변수와 동일, 개발자가 의미적으로 사용"
      ],
      "metadata": {
        "id": "cV5sorUe7wRZ"
      }
    },
    {
      "cell_type": "code",
      "source": [
        "PI = 3.14\n",
        "print(PI)"
      ],
      "metadata": {
        "colab": {
          "base_uri": "https://localhost:8080/"
        },
        "id": "f2POLfTr70ga",
        "outputId": "232ce798-3b58-43dc-c2a4-ffcae60325aa"
      },
      "execution_count": null,
      "outputs": [
        {
          "output_type": "stream",
          "name": "stdout",
          "text": [
            "3.14\n"
          ]
        }
      ]
    },
    {
      "cell_type": "markdown",
      "source": [
        "# **2부 연산자**\n",
        "산술연산자, 할당(대입)연산자, 복합 연산자, 타입 변환"
      ],
      "metadata": {
        "id": "NFUFwvUiA-mj"
      }
    },
    {
      "cell_type": "markdown",
      "source": [
        "##**2.1 산술연산자**\n",
        "+, -, *, /, //(몫), %(나머지), 나누기 결과는 항상 실수"
      ],
      "metadata": {
        "id": "z7AApIlt8Pzq"
      }
    },
    {
      "cell_type": "code",
      "source": [
        "print('7/4=', 7/4)\n",
        "print('7//4=', 7//4)\n",
        "print('7%4=',7%4)"
      ],
      "metadata": {
        "colab": {
          "base_uri": "https://localhost:8080/"
        },
        "id": "5na-_l808Xdq",
        "outputId": "90aba760-d66a-4951-9f96-1ee8e74dd208"
      },
      "execution_count": null,
      "outputs": [
        {
          "output_type": "stream",
          "name": "stdout",
          "text": [
            "7/4= 1.75\n",
            "7//4= 1\n",
            "7%4= 3\n"
          ]
        }
      ]
    },
    {
      "cell_type": "markdown",
      "source": [
        "##**2.2 할당(대입) 연산자 =**\n",
        "변수 = (값, 변수, 수식, 함수), 왼쪽은 항상 변수"
      ],
      "metadata": {
        "id": "M392tgfK8wNr"
      }
    },
    {
      "cell_type": "code",
      "source": [
        "#일반 할당문\n",
        "n1 = 1\n",
        "n2 = n1\n",
        "print('n1=', n1, 'n2=', n2)"
      ],
      "metadata": {
        "colab": {
          "base_uri": "https://localhost:8080/"
        },
        "id": "IDBYdD4Y87fy",
        "outputId": "972ccc67-5543-4e29-bba2-3d0991ea5a3a"
      },
      "execution_count": null,
      "outputs": [
        {
          "output_type": "stream",
          "name": "stdout",
          "text": [
            "n1= 1 n2= 1\n"
          ]
        }
      ]
    },
    {
      "cell_type": "code",
      "source": [
        "# 자기 할당문\n",
        "n1 = 1\n",
        "n1 = n1 +1\n",
        "print('n1=', n1)"
      ],
      "metadata": {
        "colab": {
          "base_uri": "https://localhost:8080/"
        },
        "id": "8wa2PhDj9JRz",
        "outputId": "fed62675-01b6-453c-be78-ab283bd19e81"
      },
      "execution_count": null,
      "outputs": [
        {
          "output_type": "stream",
          "name": "stdout",
          "text": [
            "n1= 2\n"
          ]
        }
      ]
    },
    {
      "cell_type": "code",
      "source": [
        "# 다중 할당문\n",
        "x=y=z=1\n",
        "print('x=', x, 'y=', y,'z=', z )"
      ],
      "metadata": {
        "colab": {
          "base_uri": "https://localhost:8080/"
        },
        "id": "bMCcYt8S9Ry6",
        "outputId": "5d1280a4-8eac-40ae-87ad-12259bb6fc5c"
      },
      "execution_count": null,
      "outputs": [
        {
          "output_type": "stream",
          "name": "stdout",
          "text": [
            "x= 1 y= 1 z= 1\n"
          ]
        }
      ]
    },
    {
      "cell_type": "code",
      "source": [
        "# 다중 할당문\n",
        "n1, n2 = 3, 5\n",
        "print('n1=', n1, 'n2=', n2)\n",
        "x, y = 3, 3.14\n",
        "print('x=', x, 'y=', y )"
      ],
      "metadata": {
        "colab": {
          "base_uri": "https://localhost:8080/"
        },
        "id": "tKFjlHvO9og9",
        "outputId": "f016206d-b05d-4e71-cbdf-babbb31a14f0"
      },
      "execution_count": null,
      "outputs": [
        {
          "output_type": "stream",
          "name": "stdout",
          "text": [
            "n1= 3 n2= 5\n",
            "x= 3 y= 3.14\n"
          ]
        }
      ]
    },
    {
      "cell_type": "code",
      "source": [
        "# 동시 값교환\n",
        "x=1\n",
        "y=2\n",
        "x, y = y, x\n",
        "print('x=', x, 'y=', y )"
      ],
      "metadata": {
        "colab": {
          "base_uri": "https://localhost:8080/"
        },
        "id": "naI8muYx94p7",
        "outputId": "8a872cb7-01c1-4350-a0b1-9dbd817ae200"
      },
      "execution_count": null,
      "outputs": [
        {
          "output_type": "stream",
          "name": "stdout",
          "text": [
            "x= 2 y= 1\n"
          ]
        }
      ]
    },
    {
      "cell_type": "markdown",
      "source": [
        "## **2.3 복합 할당 연산자  +=**\n",
        "할당 연산자에 산술 연산자를 합함"
      ],
      "metadata": {
        "id": "XmR6I_0d-A_T"
      }
    },
    {
      "cell_type": "code",
      "source": [
        "num = 1\n",
        "num += 2  # num = num + 2\n",
        "print('num=', num)"
      ],
      "metadata": {
        "colab": {
          "base_uri": "https://localhost:8080/"
        },
        "id": "jKoUyc6V-FXk",
        "outputId": "f4a29287-e6da-4fd2-94b9-010e8ee0489a"
      },
      "execution_count": null,
      "outputs": [
        {
          "output_type": "stream",
          "name": "stdout",
          "text": [
            "num= 3\n"
          ]
        }
      ]
    },
    {
      "cell_type": "code",
      "source": [
        "num = 5\n",
        "num *= 2  # num = num * 2\n",
        "print('num=', num)"
      ],
      "metadata": {
        "colab": {
          "base_uri": "https://localhost:8080/"
        },
        "id": "QEDrV9SH-Vci",
        "outputId": "3bb62576-5bde-44ee-d59e-87b201d5e228"
      },
      "execution_count": null,
      "outputs": [
        {
          "output_type": "stream",
          "name": "stdout",
          "text": [
            "num= 10\n"
          ]
        }
      ]
    },
    {
      "cell_type": "markdown",
      "source": [
        "##**2.4 타입 변환**\n",
        "int() : 정수 변환, float() 실수 변환"
      ],
      "metadata": {
        "id": "gvJtwwyn-dCr"
      }
    },
    {
      "cell_type": "code",
      "source": [
        "x= 3.14\n",
        "int(x)"
      ],
      "metadata": {
        "colab": {
          "base_uri": "https://localhost:8080/"
        },
        "id": "GSRR5TYl-idD",
        "outputId": "f7654205-525f-448e-da9a-80b8e5864872"
      },
      "execution_count": null,
      "outputs": [
        {
          "output_type": "execute_result",
          "data": {
            "text/plain": [
              "3"
            ]
          },
          "metadata": {},
          "execution_count": 22
        }
      ]
    },
    {
      "cell_type": "code",
      "source": [
        "y=3\n",
        "float(y)"
      ],
      "metadata": {
        "colab": {
          "base_uri": "https://localhost:8080/"
        },
        "id": "xkxnc9vP-lYs",
        "outputId": "74ae127c-b3f3-4b36-8281-2ac103994b84"
      },
      "execution_count": null,
      "outputs": [
        {
          "output_type": "execute_result",
          "data": {
            "text/plain": [
              "3.0"
            ]
          },
          "metadata": {},
          "execution_count": 23
        }
      ]
    },
    {
      "cell_type": "markdown",
      "source": [
        "# **3부 표준 입력 함수 input()**\n",
        "input('안내메시지'), 타입변환-int(input())"
      ],
      "metadata": {
        "id": "5Ig8avpKBfLD"
      }
    },
    {
      "cell_type": "markdown",
      "source": [
        "##**3.1 입력 함수 input()**\n",
        "input('안내프롬프트'), 함수의 결과는 항상 문자열"
      ],
      "metadata": {
        "id": "w_ZuoZCv-25K"
      }
    },
    {
      "cell_type": "code",
      "source": [
        "name = input(\"이름을 입력하시오 \")\n",
        "print('name = ', name)\n",
        "print('name의 type : ', type(name))"
      ],
      "metadata": {
        "colab": {
          "base_uri": "https://localhost:8080/"
        },
        "id": "Cvp9vEyX_Asr",
        "outputId": "85c14a7e-0f29-4c36-8b91-8092469a25f6"
      },
      "execution_count": null,
      "outputs": [
        {
          "output_type": "stream",
          "name": "stdout",
          "text": [
            "이름을 입력하시오 mju\n",
            "name =  mju\n",
            "name의 type :  <class 'str'>\n"
          ]
        }
      ]
    },
    {
      "cell_type": "markdown",
      "source": [
        "##**3.2 입력함수 + 타입 변환**\n",
        "int(input()), float(input())"
      ],
      "metadata": {
        "id": "riR_QCxl_Iyq"
      }
    },
    {
      "cell_type": "code",
      "source": [
        "num = int(input(\"정수를 입력하시오 \"))\n",
        "print('num = ', num)\n",
        "print('num의 type : ', type(num))"
      ],
      "metadata": {
        "colab": {
          "base_uri": "https://localhost:8080/"
        },
        "id": "K61AAk7e_Mcj",
        "outputId": "80539281-16e0-4cda-dd97-55b10ac5cd38"
      },
      "execution_count": null,
      "outputs": [
        {
          "output_type": "stream",
          "name": "stdout",
          "text": [
            "정수를 입력하시오 5\n",
            "num =  5\n",
            "num의 type :  <class 'int'>\n"
          ]
        }
      ]
    },
    {
      "cell_type": "code",
      "source": [
        "height = float(input(\"키를 입력하시오 \"))\n",
        "print('height = ', height)\n",
        "print('height의 type : ', type(height))"
      ],
      "metadata": {
        "colab": {
          "base_uri": "https://localhost:8080/"
        },
        "id": "mY5UUJhj_ZKC",
        "outputId": "0e148bde-fabb-468c-f7f4-23417d63ddb5"
      },
      "execution_count": null,
      "outputs": [
        {
          "output_type": "stream",
          "name": "stdout",
          "text": [
            "키를 입력하시오 180.5\n",
            "height =  180.5\n",
            "height의 type :  <class 'float'>\n"
          ]
        }
      ]
    }
  ]
}