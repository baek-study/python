{
  "nbformat": 4,
  "nbformat_minor": 0,
  "metadata": {
    "colab": {
      "provenance": [],
      "toc_visible": true,
      "authorship_tag": "ABX9TyNEM4LU0WIbofWipaV+T61v",
      "include_colab_link": true
    },
    "kernelspec": {
      "name": "python3",
      "display_name": "Python 3"
    },
    "language_info": {
      "name": "python"
    }
  },
  "cells": [
    {
      "cell_type": "markdown",
      "metadata": {
        "id": "view-in-github",
        "colab_type": "text"
      },
      "source": [
        "<a href=\"https://colab.research.google.com/github/baek-study/python/blob/main/week2.ipynb\" target=\"_parent\"><img src=\"https://colab.research.google.com/assets/colab-badge.svg\" alt=\"Open In Colab\"/></a>"
      ]
    },
    {
      "cell_type": "markdown",
      "source": [
        "# **1. 화면 출력:print()**\n",
        "\n",
        "문자열을 출력, 문자열을 출력 후 줄 바꿈 처리\n",
        "\n"
      ],
      "metadata": {
        "id": "RlK4In2jOOvG"
      }
    },
    {
      "cell_type": "code",
      "source": [
        "print('hello world!')\n",
        "print('good job');"
      ],
      "metadata": {
        "colab": {
          "base_uri": "https://localhost:8080/"
        },
        "id": "GGSR8cC2OaP-",
        "outputId": "1f4f5d64-5293-47cb-f494-b43d7e394d9d"
      },
      "execution_count": 10,
      "outputs": [
        {
          "output_type": "stream",
          "name": "stdout",
          "text": [
            "hello world!\n",
            "good job\n"
          ]
        }
      ]
    },
    {
      "cell_type": "markdown",
      "source": [
        "# **2. 다양한 자료형 출력**\n",
        "숫자, 수식 등 여러가지 자료형 출력"
      ],
      "metadata": {
        "id": "X8DKgjN3OgWN"
      }
    },
    {
      "cell_type": "code",
      "source": [
        "print(1004)\n",
        "print(2+3)"
      ],
      "metadata": {
        "colab": {
          "base_uri": "https://localhost:8080/"
        },
        "id": "rZynJZjbOmJW",
        "outputId": "ce4352b8-22af-4116-a599-52345db245c8"
      },
      "execution_count": 2,
      "outputs": [
        {
          "output_type": "stream",
          "name": "stdout",
          "text": [
            "1004\n",
            "5\n"
          ]
        }
      ]
    },
    {
      "cell_type": "markdown",
      "source": [
        "# **3. 여러 개의 값 출력**\n",
        "여러개 값 각각은 콤마(,)로 구분, 공백 1 칸씩 띄어 출력\n"
      ],
      "metadata": {
        "id": "Z-9mwO75Oy7e"
      }
    },
    {
      "cell_type": "code",
      "source": [
        "print(2, '+', 3, '=', 2+3)\n",
        "print('우리는', '파이썬을', '배운다')"
      ],
      "metadata": {
        "colab": {
          "base_uri": "https://localhost:8080/"
        },
        "id": "OGTTHJr0O-32",
        "outputId": "508da137-a569-4426-bfcc-a6174aa9ded9"
      },
      "execution_count": 3,
      "outputs": [
        {
          "output_type": "stream",
          "name": "stdout",
          "text": [
            "2 + 3 = 5\n",
            "우리는 파이썬을 배운다\n"
          ]
        }
      ]
    },
    {
      "cell_type": "markdown",
      "source": [
        "# **4. 문자열간의 + 는 병합**\n",
        "숫자 + 숫자 = 숫자,  숫자 + 문자 = 에러"
      ],
      "metadata": {
        "id": "9fxX7unuPCv2"
      }
    },
    {
      "cell_type": "code",
      "source": [
        "print('우리는'+'파이썬을'+'배운다')"
      ],
      "metadata": {
        "colab": {
          "base_uri": "https://localhost:8080/"
        },
        "id": "QDyClF16PM92",
        "outputId": "4c391fe8-e5b0-4915-a646-02ed9e76f520"
      },
      "execution_count": 4,
      "outputs": [
        {
          "output_type": "stream",
          "name": "stdout",
          "text": [
            "우리는파이썬을배운다\n"
          ]
        }
      ]
    },
    {
      "cell_type": "code",
      "source": [
        "print(\"100\"+일)"
      ],
      "metadata": {
        "colab": {
          "base_uri": "https://localhost:8080/",
          "height": 141
        },
        "id": "Y5U5nmGJPQP2",
        "outputId": "4b4f8bf5-a3be-43a5-f43b-aedcaeef4713"
      },
      "execution_count": 5,
      "outputs": [
        {
          "output_type": "error",
          "ename": "NameError",
          "evalue": "name '일' is not defined",
          "traceback": [
            "\u001b[0;31m---------------------------------------------------------------------------\u001b[0m",
            "\u001b[0;31mNameError\u001b[0m                                 Traceback (most recent call last)",
            "\u001b[0;32m<ipython-input-5-9ee989c34bb2>\u001b[0m in \u001b[0;36m<cell line: 1>\u001b[0;34m()\u001b[0m\n\u001b[0;32m----> 1\u001b[0;31m \u001b[0mprint\u001b[0m\u001b[0;34m(\u001b[0m\u001b[0;34m\"100\"\u001b[0m\u001b[0;34m+\u001b[0m\u001b[0m일\u001b[0m\u001b[0;34m)\u001b[0m\u001b[0;34m\u001b[0m\u001b[0;34m\u001b[0m\u001b[0m\n\u001b[0m",
            "\u001b[0;31mNameError\u001b[0m: name '일' is not defined"
          ]
        }
      ]
    },
    {
      "cell_type": "markdown",
      "source": [
        "#5. **출력 제어 문자**\n",
        "\\n : 새로운 줄로 이동, \\t : 다음 탭으로 이동"
      ],
      "metadata": {
        "id": "PjDDRJpyPYWu"
      }
    },
    {
      "cell_type": "code",
      "source": [
        "print('줄바꿈\\n연습\\n')\n",
        "print('\\t탭키\\t연습')"
      ],
      "metadata": {
        "colab": {
          "base_uri": "https://localhost:8080/"
        },
        "id": "34zD5IgfPcFm",
        "outputId": "2909620d-526c-43b3-ca9a-33f3d79c2354"
      },
      "execution_count": 7,
      "outputs": [
        {
          "output_type": "stream",
          "name": "stdout",
          "text": [
            "줄바꿈\n",
            "연습\n",
            "\n",
            "\t탭키\t연습\n"
          ]
        }
      ]
    },
    {
      "cell_type": "markdown",
      "source": [
        "# **6.키워드 인수 sep : 구분자, end : 끝문자**\n",
        "print(*args, sep=' ', end= '\\n')"
      ],
      "metadata": {
        "id": "jidzy3TXPiuu"
      }
    },
    {
      "cell_type": "code",
      "source": [
        "print('hello', 'world')\n",
        "print('hello', 'world', sep='###')"
      ],
      "metadata": {
        "colab": {
          "base_uri": "https://localhost:8080/"
        },
        "id": "GDQ6W9THPmdZ",
        "outputId": "0a60c4f2-25f1-4c31-f710-bead0eeed4a7"
      },
      "execution_count": 8,
      "outputs": [
        {
          "output_type": "stream",
          "name": "stdout",
          "text": [
            "hello world\n",
            "hello###world\n"
          ]
        }
      ]
    },
    {
      "cell_type": "code",
      "source": [
        "print('hello', 'world')\n",
        "print('hello', 'world', end='!!!')"
      ],
      "metadata": {
        "colab": {
          "base_uri": "https://localhost:8080/"
        },
        "id": "za4Fke-dPp4e",
        "outputId": "4958abaa-668f-40f3-bbcd-35d06cba0bca"
      },
      "execution_count": 9,
      "outputs": [
        {
          "output_type": "stream",
          "name": "stdout",
          "text": [
            "hello world\n",
            "hello world!!!"
          ]
        }
      ]
    }
  ]
}