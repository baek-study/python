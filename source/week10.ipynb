{
  "nbformat": 4,
  "nbformat_minor": 0,
  "metadata": {
    "colab": {
      "provenance": [],
      "toc_visible": true,
      "authorship_tag": "ABX9TyMa7N/WATpXxtLqLJJmfgrU",
      "include_colab_link": true
    },
    "kernelspec": {
      "name": "python3",
      "display_name": "Python 3"
    },
    "language_info": {
      "name": "python"
    }
  },
  "cells": [
    {
      "cell_type": "markdown",
      "metadata": {
        "id": "view-in-github",
        "colab_type": "text"
      },
      "source": [
        "<a href=\"https://colab.research.google.com/github/baek-study/python/blob/main/week10_ipynb%EC%9D%98_%EC%82%AC%EB%B3%B8.ipynb\" target=\"_parent\"><img src=\"https://colab.research.google.com/assets/colab-badge.svg\" alt=\"Open In Colab\"/></a>"
      ]
    },
    {
      "cell_type": "markdown",
      "source": [
        "# **1부 함수와 변수(variable)**\n",
        "지역변수(local variable), 전역변수(global variable)"
      ],
      "metadata": {
        "id": "f-xkcedf6rli"
      }
    },
    {
      "cell_type": "markdown",
      "source": [
        "## **1.1 지역 변수**\n",
        "\n",
        "\n",
        "*   함수 내에서 생성된 변수와 매개변수\n",
        "*   선언된 함수 내에서만 접근 가능\n",
        "\n"
      ],
      "metadata": {
        "id": "8qPQebzSARjc"
      }
    },
    {
      "cell_type": "code",
      "source": [
        "# 선언된 함수 내에서만 접근 가능\n",
        "def myfunction(num) :          # num : 매개변수 - 지역변수\n",
        "   x = 3                       # x : 지역변수\n",
        "   print(f'x={x}, num={num}')\n",
        "\n",
        "# 주 프로그램\n",
        "myfunction(5)"
      ],
      "metadata": {
        "colab": {
          "base_uri": "https://localhost:8080/"
        },
        "id": "Kyd6GMIx65Bq",
        "outputId": "b0a1b62d-ce55-4a01-e804-84d8b0b1db47"
      },
      "execution_count": null,
      "outputs": [
        {
          "output_type": "stream",
          "name": "stdout",
          "text": [
            "x=3, num=5\n"
          ]
        }
      ]
    },
    {
      "cell_type": "code",
      "source": [
        "# 함수 외에서 지역 변수 접근 불가능\n",
        "def myfunction(num) :          # num : 매개변수 - 지역변수\n",
        "   x = 3                       # x : 지역변수\n",
        "   print(f'x={x}, num={num}')\n",
        "\n",
        "# 주 프로그램\n",
        "print(x)                      # 함수 외에서 지역 변수 접근\n",
        "myfunction(5)"
      ],
      "metadata": {
        "colab": {
          "base_uri": "https://localhost:8080/",
          "height": 193
        },
        "id": "5OJVtl6V2sJG",
        "outputId": "a644cdf4-a4cc-424d-c5c3-5b8ae6719014"
      },
      "execution_count": null,
      "outputs": [
        {
          "output_type": "error",
          "ename": "NameError",
          "evalue": "name 'x' is not defined",
          "traceback": [
            "\u001b[0;31m---------------------------------------------------------------------------\u001b[0m",
            "\u001b[0;31mNameError\u001b[0m                                 Traceback (most recent call last)",
            "\u001b[0;32m<ipython-input-21-1e21e1ba7a00>\u001b[0m in \u001b[0;36m<cell line: 7>\u001b[0;34m()\u001b[0m\n\u001b[1;32m      5\u001b[0m \u001b[0;34m\u001b[0m\u001b[0m\n\u001b[1;32m      6\u001b[0m \u001b[0;31m# 주 프로그램\u001b[0m\u001b[0;34m\u001b[0m\u001b[0;34m\u001b[0m\u001b[0m\n\u001b[0;32m----> 7\u001b[0;31m \u001b[0mprint\u001b[0m\u001b[0;34m(\u001b[0m\u001b[0mx\u001b[0m\u001b[0;34m)\u001b[0m                      \u001b[0;31m# 함수 외에서 지역 변수 접근\u001b[0m\u001b[0;34m\u001b[0m\u001b[0;34m\u001b[0m\u001b[0m\n\u001b[0m\u001b[1;32m      8\u001b[0m \u001b[0mmyfunction\u001b[0m\u001b[0;34m(\u001b[0m\u001b[0;36m5\u001b[0m\u001b[0;34m)\u001b[0m\u001b[0;34m\u001b[0m\u001b[0;34m\u001b[0m\u001b[0m\n",
            "\u001b[0;31mNameError\u001b[0m: name 'x' is not defined"
          ]
        }
      ]
    },
    {
      "cell_type": "markdown",
      "source": [
        "## **1.2 전역 변수**\n",
        "함수 외부에서 생성되며 모든 함수에서 접근 가능"
      ],
      "metadata": {
        "id": "Sw9_bUhq7KNh"
      }
    },
    {
      "cell_type": "code",
      "source": [
        "gx = 3                     # 전역 변수\n",
        "\n",
        "def myfunction() :\n",
        "    print(f'함수 내 gx = {gx}')\n",
        "\n",
        "myfunction()\n",
        "print(f'함수 외 gx = {gx}')"
      ],
      "metadata": {
        "colab": {
          "base_uri": "https://localhost:8080/"
        },
        "id": "6Q5KseXt7Rdy",
        "outputId": "056362fa-34cf-48d7-a2dd-4479d783f65e"
      },
      "execution_count": null,
      "outputs": [
        {
          "output_type": "stream",
          "name": "stdout",
          "text": [
            "함수 내 gx = 3\n",
            "함수 외 gx = 3\n"
          ]
        }
      ]
    },
    {
      "cell_type": "markdown",
      "source": [
        "## **1.3  전역변수 변경- global 키워드 이용**\n",
        "\n",
        "\n",
        "1. 함수내 전역 변수 변경 - 새로운 지역 변수로 간주\n",
        "2. 함수내 global 키워드 이용시 - 전역 변수 변경 가능  \n",
        "\n"
      ],
      "metadata": {
        "id": "QHO1l3LB7fAa"
      }
    },
    {
      "cell_type": "code",
      "source": [
        "# 1. 함수 내에서 전역 변수 변경 - 새로운 지역 변수 생성\n",
        "def first() :\n",
        "    g_msg = '헬로' #  새로운 지역 변수 생성\n",
        "    print(f'함수내 전역 변수 g_msg = {g_msg}')\n",
        "\n",
        "# 주프로그램\n",
        "g_msg = 'hello'\n",
        "first()\n",
        "print(f'전역 변수 g_msg = {g_msg}  # 함수내 변수 변경과 무관함')"
      ],
      "metadata": {
        "colab": {
          "base_uri": "https://localhost:8080/"
        },
        "id": "rQ-rhbBj7pbJ",
        "outputId": "ff5e32e9-0a1f-46d5-b64e-e6a1e5c33057"
      },
      "execution_count": null,
      "outputs": [
        {
          "output_type": "stream",
          "name": "stdout",
          "text": [
            "함수내 전역 변수 g_msg = 헬로\n",
            "전역 변수 g_msg = hello  # 함수내 변수 변경과 무관함\n"
          ]
        }
      ]
    },
    {
      "cell_type": "code",
      "source": [
        "# 2. 함수 내에서 전역 변수 변경 - global 키워드 이용시\n",
        "def first() :\n",
        "    global g_msg  # 함수 내에서 전역변수 변경 가능하도록 하는 키워드\n",
        "    g_msg = '헬로'\n",
        "    print(f'함수내 전역 변수 g_msg = {g_msg}')\n",
        "\n",
        "# 주프로그램\n",
        "g_msg = 'hello'\n",
        "first()\n",
        "print(f'전역 변수 g_msg = {g_msg} # 함수내 global 이용 효과')\n"
      ],
      "metadata": {
        "colab": {
          "base_uri": "https://localhost:8080/"
        },
        "id": "-DmKKH9D7uda",
        "outputId": "615c2ff0-5e35-4c09-8772-8465eb69f036"
      },
      "execution_count": null,
      "outputs": [
        {
          "output_type": "stream",
          "name": "stdout",
          "text": [
            "함수내 전역 변수 g_msg = 헬로\n",
            "전역 변수 g_msg = 헬로 # 함수내 global 이용 효과\n"
          ]
        }
      ]
    },
    {
      "cell_type": "markdown",
      "source": [
        "# **2부 모듈 구성 및 사용**\n",
        "\n",
        "\n",
        "*   모듈 : 함수의 정의나 변수들을 모아 놓은 파일\n",
        "* 파일이름에서 확장자(.py)를 제외\n"
      ],
      "metadata": {
        "id": "NFUFwvUiA-mj"
      }
    },
    {
      "cell_type": "markdown",
      "source": [
        "##**2.1 모듈 작성**\n",
        "\n",
        "*   사용자 생성 모듈 : 직접 작성한 모듈, \n",
        "\n"
      ],
      "metadata": {
        "id": "z7AApIlt8Pzq"
      }
    },
    {
      "cell_type": "code",
      "source": [
        "# 파일명 : calc_area.py\n",
        "# 설  명 : 도형의 넓이를 구하는 모듈\n",
        "\n",
        "# 1. 원의 넓이를 구하기\n",
        "def get_circle_area(radius) :\n",
        "    area = 3.14 * radius * radius\n",
        "    return area\n",
        "\n",
        "# 2. 사각형의 넓이를 구하기\n",
        "def get_rect_area(width=5, height=10) :\n",
        "    area = width * height\n",
        "    print(f'width = {width}, height={height}')\n",
        "    return area"
      ],
      "metadata": {
        "id": "5na-_l808Xdq"
      },
      "execution_count": null,
      "outputs": []
    },
    {
      "cell_type": "markdown",
      "source": [
        "##**2.2 모듈 활용**\n",
        "특정모듈을 현재 모듈로 가져오는 5가지 방법\n",
        "\n"
      ],
      "metadata": {
        "id": "M392tgfK8wNr"
      }
    },
    {
      "cell_type": "code",
      "source": [
        "## 방법1 - import 모듈이름  \n",
        "import calc_area\n",
        "result = calc_area.get_circle_area(5)\n",
        "print(f'moduleExam - 원의 넓이는 {result}입니다.')"
      ],
      "metadata": {
        "id": "qWT1laWGGZ0c"
      },
      "execution_count": null,
      "outputs": []
    },
    {
      "cell_type": "code",
      "source": [
        "## 방법2 - import 모듈이름 as 별명   - alias\n",
        "import calc_area as ca\n",
        "result1 = ca.get_circle_area(5)\n",
        "print(f'moduleExam - 원의 넓이는 {result1}입니다.')"
      ],
      "metadata": {
        "id": "8wa2PhDj9JRz"
      },
      "execution_count": null,
      "outputs": []
    },
    {
      "cell_type": "code",
      "source": [
        "## 방법3 - from 모듈이름 import 함수이름, 함수이름\n",
        "from calc_area import get_circle_area, get_rect_area\n",
        "result1 = get_circle_area(5)\n",
        "print(f'moduleExam - 원의 넓이는 {result1}입니다.')"
      ],
      "metadata": {
        "id": "bMCcYt8S9Ry6"
      },
      "execution_count": null,
      "outputs": []
    },
    {
      "cell_type": "code",
      "source": [
        "## 방법4 - form 모듈이름 import *  - 모듈내 모든 함수 가져옴\n",
        "from calc_area import *\n",
        "result1 = get_circle_area(5)\n",
        "print(f'moduleExam - 원의 넓이는 {result1}입니다.')"
      ],
      "metadata": {
        "id": "tKFjlHvO9og9"
      },
      "execution_count": null,
      "outputs": []
    },
    {
      "cell_type": "code",
      "source": [
        "## 방법 5 - form 모듈이름 import 함수 이름 as 별명\n",
        "from calc_area import get_circle_area as getCA\n",
        "from calc_area import get_rect_area as getRA\n",
        "result1 = getCA(5)"
      ],
      "metadata": {
        "id": "naI8muYx94p7"
      },
      "execution_count": null,
      "outputs": []
    },
    {
      "cell_type": "markdown",
      "source": [
        "# **3부 표준 모듈**\n",
        "파이썬을 설치하면 기본적으로 제공 <br>\n",
        "random, math, turtle, time 등"
      ],
      "metadata": {
        "id": "5Ig8avpKBfLD"
      }
    },
    {
      "cell_type": "markdown",
      "source": [
        "##**3.1 random : 난수 모듈**\n",
        "불규칙해 보이는 패턴 수 생성\n",
        "randint(start, end) - 구간내 난수 생성"
      ],
      "metadata": {
        "id": "w_ZuoZCv-25K"
      }
    },
    {
      "cell_type": "code",
      "source": [
        "import random\n",
        "\n",
        "def roll_dice() :\n",
        "  return random.randint(1, 6)\n",
        "\n",
        "print(f'주사위 시뮬레이션 1 - {roll_dice()}')\n",
        "print(f'주사위 시뮬레이션 2 - {roll_dice()}')"
      ],
      "metadata": {
        "colab": {
          "base_uri": "https://localhost:8080/"
        },
        "id": "Cvp9vEyX_Asr",
        "outputId": "d1779b6d-eb39-47ce-eefb-0ecf8a047f5e"
      },
      "execution_count": 2,
      "outputs": [
        {
          "output_type": "stream",
          "name": "stdout",
          "text": [
            "주사위 시뮬레이션 1 - 3\n",
            "주사위 시뮬레이션 2 - 5\n"
          ]
        }
      ]
    }
  ]
}
