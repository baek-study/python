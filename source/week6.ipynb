{
  "nbformat": 4,
  "nbformat_minor": 0,
  "metadata": {
    "colab": {
      "provenance": [],
      "authorship_tag": "ABX9TyPrHAetpUVCNNAHqAZKu+DM",
      "include_colab_link": true
    },
    "kernelspec": {
      "name": "python3",
      "display_name": "Python 3"
    },
    "language_info": {
      "name": "python"
    }
  },
  "cells": [
    {
      "cell_type": "markdown",
      "metadata": {
        "id": "view-in-github",
        "colab_type": "text"
      },
      "source": [
        "<a href=\"https://colab.research.google.com/github/baek-study/python/blob/main/week6.ipynb\" target=\"_parent\"><img src=\"https://colab.research.google.com/assets/colab-badge.svg\" alt=\"Open In Colab\"/></a>"
      ]
    },
    {
      "cell_type": "markdown",
      "source": [
        "# **PART 1 반복 제어**\n",
        "\n",
        "*   횟수 반복 (for 문) : 정해진 횟부만큼 반복\n",
        "*   조건 반복 (while 문) : 특정한 조건이 성립되는 동안 반복\n",
        "\n"
      ],
      "metadata": {
        "id": "FfFqwwncZ02m"
      }
    },
    {
      "cell_type": "markdown",
      "source": [],
      "metadata": {
        "id": "jayRz66be0XQ"
      }
    },
    {
      "cell_type": "markdown",
      "source": [],
      "metadata": {
        "id": "Ra2R1V0DbBVZ"
      }
    },
    {
      "cell_type": "markdown",
      "source": [
        " # **PART 2 for 문**\n",
        "\n",
        "\n",
        "*   for 변수 in 범위표현 :  <br> &emsp;문장들\n",
        "*   범위표현 - 문자열, 리스트, range()\n",
        "\n"
      ],
      "metadata": {
        "id": "xhXqqgddaR13"
      }
    },
    {
      "cell_type": "code",
      "source": [
        "# 범위 표현 - 리스트\n",
        "for i in [1,2,3,4,5] :\n",
        "  print(f'{i} - hello', end = ' ')"
      ],
      "metadata": {
        "colab": {
          "base_uri": "https://localhost:8080/"
        },
        "id": "-0lkQ94sZ2kA",
        "outputId": "83036857-0e81-489d-b7f9-2fa6860350d0"
      },
      "execution_count": 2,
      "outputs": [
        {
          "output_type": "stream",
          "name": "stdout",
          "text": [
            "1 - hello 2 - hello 3 - hello 4 - hello 5 - hello "
          ]
        }
      ]
    },
    {
      "cell_type": "code",
      "execution_count": 3,
      "metadata": {
        "colab": {
          "base_uri": "https://localhost:8080/"
        },
        "id": "BArlL7HVZvOQ",
        "outputId": "bea0f4ab-bdaf-4362-cad2-9ab0aa4c5256"
      },
      "outputs": [
        {
          "output_type": "stream",
          "name": "stdout",
          "text": [
            "h/ e/ l/ l/ o/ "
          ]
        }
      ],
      "source": [
        "# 범위 표현 - 문자열\n",
        "for ch in 'hello' :\n",
        "  print(f'{ch}', end = '/ ')"
      ]
    },
    {
      "cell_type": "markdown",
      "source": [
        "## range() 함수\n",
        "range(start = 0, stop, step = 1) : start에서 stop-1 까지 step씩 증가하는 함수"
      ],
      "metadata": {
        "id": "3Gk_gDW7bmV4"
      }
    },
    {
      "cell_type": "code",
      "source": [
        "#range(최종값)  => 0 에서 최종값-1 까지 숫자\n",
        "for i in range(5) :\n",
        "  print(i, end = ' ')"
      ],
      "metadata": {
        "colab": {
          "base_uri": "https://localhost:8080/"
        },
        "id": "EAIj02NbZzdG",
        "outputId": "ca54a41b-3bca-4bcf-8bb6-7e937c4dc603"
      },
      "execution_count": 5,
      "outputs": [
        {
          "output_type": "stream",
          "name": "stdout",
          "text": [
            "0 1 2 3 4 "
          ]
        }
      ]
    },
    {
      "cell_type": "code",
      "source": [
        "#range(start, stop, -1) => start에서 stop+1까지 역순\n",
        "for i in range(10, 0, -1) :\n",
        "  print(i, end= ' ')"
      ],
      "metadata": {
        "colab": {
          "base_uri": "https://localhost:8080/"
        },
        "id": "uXt7u48JcnDw",
        "outputId": "267cdfbc-9776-48df-90dd-6a5389440a91"
      },
      "execution_count": 6,
      "outputs": [
        {
          "output_type": "stream",
          "name": "stdout",
          "text": [
            "10 9 8 7 6 5 4 3 2 1 "
          ]
        }
      ]
    },
    {
      "cell_type": "code",
      "source": [
        "#range(start, stop, step) => start에서 stop-1까지 step씩 증가\n",
        "for i in range(2, 11, 2) :\n",
        "  print(i, end=' ')"
      ],
      "metadata": {
        "colab": {
          "base_uri": "https://localhost:8080/"
        },
        "id": "cDoNSlDPc5U5",
        "outputId": "b40decc7-57cf-4598-e7c3-d3a0922e9823"
      },
      "execution_count": 8,
      "outputs": [
        {
          "output_type": "stream",
          "name": "stdout",
          "text": [
            "2 4 6 8 10 "
          ]
        }
      ]
    },
    {
      "cell_type": "markdown",
      "source": [
        "#**PART 3 while 문**\n",
        "\n",
        "\n",
        "*   while 조건문 : <br> &emsp; 문장들\n",
        "*   조건이 만족하는 동안 반복 수행\n",
        "\n"
      ],
      "metadata": {
        "id": "QowLVmxbdNYX"
      }
    },
    {
      "cell_type": "code",
      "source": [
        "# 조건이 만족될때 까지 수행\n",
        "password = ' '\n",
        "\n",
        "while password != '1234' :\n",
        "  password = input('비밀번호')\n",
        "\n",
        "print('어서 오세요!')"
      ],
      "metadata": {
        "colab": {
          "base_uri": "https://localhost:8080/"
        },
        "id": "OLo3K5mMdgMr",
        "outputId": "44cbbce5-355d-40ce-f184-6a54a33a9e25"
      },
      "execution_count": 9,
      "outputs": [
        {
          "output_type": "stream",
          "name": "stdout",
          "text": [
            "비밀번호12\n",
            "비밀번호1234\n",
            "어서 오세요!\n"
          ]
        }
      ]
    },
    {
      "cell_type": "code",
      "source": [
        "# while에서 범위 반복\n",
        "i = 0\n",
        "\n",
        "while i < 5 :\n",
        "  print(f'{i} - hello', end = ' ')\n",
        "  i = i+1"
      ],
      "metadata": {
        "colab": {
          "base_uri": "https://localhost:8080/"
        },
        "id": "5u1b5048eHrG",
        "outputId": "62c294e4-9491-46a1-a6e6-e045b8579fef"
      },
      "execution_count": 10,
      "outputs": [
        {
          "output_type": "stream",
          "name": "stdout",
          "text": [
            "0 - hello 1 - hello 2 - hello 3 - hello 4 - hello "
          ]
        }
      ]
    },
    {
      "cell_type": "code",
      "source": [
        "# 위 구문은 다음과 동일\n",
        "for i in range(5) :\n",
        "  print(f'{i} - hello', end = ' ')"
      ],
      "metadata": {
        "colab": {
          "base_uri": "https://localhost:8080/"
        },
        "id": "IGsDhhUOejfT",
        "outputId": "3df1fed0-3dd0-4b90-b5e3-03e68fc4c0c8"
      },
      "execution_count": 11,
      "outputs": [
        {
          "output_type": "stream",
          "name": "stdout",
          "text": [
            "0 - hello 1 - hello 2 - hello 3 - hello 4 - hello "
          ]
        }
      ]
    }
  ]
}