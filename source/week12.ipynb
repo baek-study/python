{
  "nbformat": 4,
  "nbformat_minor": 0,
  "metadata": {
    "colab": {
      "provenance": [],
      "authorship_tag": "ABX9TyOR9UgqV+qQsOow6xVSU4dF",
      "include_colab_link": true
    },
    "kernelspec": {
      "name": "python3",
      "display_name": "Python 3"
    },
    "language_info": {
      "name": "python"
    }
  },
  "cells": [
    {
      "cell_type": "markdown",
      "metadata": {
        "id": "view-in-github",
        "colab_type": "text"
      },
      "source": [
        "<a href=\"https://colab.research.google.com/github/baek-study/python/blob/main/source/week12.ipynb\" target=\"_parent\"><img src=\"https://colab.research.google.com/assets/colab-badge.svg\" alt=\"Open In Colab\"/></a>"
      ]
    },
    {
      "cell_type": "markdown",
      "source": [
        "# **1부 리스트  메소드**\n",
        "\n",
        "리스트 객체의 함수 : temps<b>.</b>append() # 리스트.메소드이릌\n",
        "\n",
        "\n"
      ],
      "metadata": {
        "id": "f-xkcedf6rli"
      }
    },
    {
      "cell_type": "markdown",
      "source": [
        "## **1.1 주요 리스트 메소드**\n",
        "\n",
        "\n",
        "* 추가 : append(값), insert(삽입위치, 값)\n",
        "* 삭제 : del 리스트[삭제인덱스], remove(값), clear(), [:]\n",
        "* 찾기 : index(값)\n",
        "* 개수 : count(값) # 없는 경우 0 리턴\n",
        "\n"
      ],
      "metadata": {
        "id": "8qPQebzSARjc"
      }
    },
    {
      "cell_type": "code",
      "source": [
        "#1. 리스트에 요소 추가\n",
        "#append(값) 함수 - 리스트 제일 뒤에 추가\n",
        "heroes = []\n",
        "heroes.append('아이언맨')\n",
        "heroes.append('토르')\n",
        "print(f'추가후 - heros - {heroes}')\n",
        "\n",
        "#insert(삽입위치, 값) 함수 - (특정) 삽입위치에 데이터 추가\n",
        "heroes.insert(1,' 스파이더맨')\n",
        "print(f'insert(1,\" 스파이더맨\") 후 - {heroes}')\n",
        "\n",
        "#2. 리스트에 요소 삭제\n",
        "#del 함수 -리스트 인덱싱이나 슬라이싱을 이용하여 요소를  선택하여 삭제\n",
        "del heroes[0]\n",
        "print(f'del heroes[0] 후 - {heroes}')\n",
        "#remove 함수 - 리스트에서 요소 값과 일치하는 첫번째 요소만 삭제 *한 번만 삭제\n",
        "heroes.remove('토르')\n",
        "print(f'heroes.remove(\"토르\") 후 - {heroes}')\n",
        "print(heroes)\n",
        "\n",
        "#2. 리스트에 요소 찾기\n",
        "#index(값)함수 - 특정 요소의 인덱스 위치 반환\n",
        "nums = [11,22,33,44,55]\n",
        "print(f'nums = {nums}')\n",
        "print(f'nums.index(33)= {nums.index(33)}')\n",
        "#count(값)함수 - 값 이 일치하는 요소 개수 세기\n",
        "print(f'nums.count(33)= {nums.count(33)}')\n",
        "#pop(값)함수 - 지정된 위치에서 요소를 삭제하여 '반환'한다.\n",
        "x = nums.pop(2)\n",
        "print(f'nums= {nums},삭제된 값 ={x}')"
      ],
      "metadata": {
        "colab": {
          "base_uri": "https://localhost:8080/"
        },
        "id": "Kyd6GMIx65Bq",
        "outputId": "3397e26c-d7d2-4abc-f9e8-8aedf738298a"
      },
      "execution_count": 11,
      "outputs": [
        {
          "output_type": "stream",
          "name": "stdout",
          "text": [
            "추가후 - heros - ['아이언맨', '토르']\n",
            "insert(1,\" 스파이더맨\") 후 - ['아이언맨', ' 스파이더맨', '토르']\n",
            "del heroes[0] 후 - [' 스파이더맨', '토르']\n",
            "heroes.remove(\"토르\") 후 - [' 스파이더맨']\n",
            "[' 스파이더맨']\n",
            "nums = [11, 22, 33, 44, 55]\n",
            "nums.index(33)= 2\n",
            "nums.count(33)= 1\n",
            "nums= [11, 22, 44, 55],삭제된 값 =33\n"
          ]
        }
      ]
    },
    {
      "cell_type": "markdown",
      "source": [
        "# **2부 딕셔너리(dictionary)**\n",
        "키와 값의 쌍으로 구성, 순서 없음. 키는 유일\n"
      ],
      "metadata": {
        "id": "nPf0204JksLw"
      }
    },
    {
      "cell_type": "markdown",
      "source": [
        "## **2.1 딕셔너리**\n",
        "\n",
        "* 생성 : dic =  {키1:값1, 키2:값2,... }\n",
        "* 요소접근 : dic[키], dic.get(키)\n",
        "* 추가 : dic[새로운 키] = 값\n",
        "* 수정 : dic[기존 키] = 새로운 값\n",
        "* 삭제 : del dic[키], dic.clear()\n",
        "* 유효성 검사 : 키 in dic\n"
      ],
      "metadata": {
        "id": "DUQob-I-Md1m"
      }
    },
    {
      "cell_type": "code",
      "source": [
        "# 1. 딕셔너리 생성\n",
        "d={\"python\":\"파이썬\", \"basic\":\"기초\", \"programming\":\"프로그래밍\"}\n",
        "print(f'd = {d}')\n",
        "\n",
        "# 2. 딕셔너리 요소 접근   딕셔너리이름[키]\n",
        "print(f'요소접근 - {d[\"python\"]}')\n",
        "print(f'get 함수이용한 요소 접근 - {d.get(\"python\")}')\n",
        "print(f'get 함수이용한 요소 접근 - {d.get(\"java\", \"해당 키가 없습니다\")}')\n",
        "\n",
        "# 3. 딕셔너리 요소 추가\n",
        "d['java'] = '자바'\n",
        "d['sql'] = '데이터베이스쿼리언어'\n",
        "print(f\"추가후 - d = {d}\")\n",
        "\n",
        "# 4. 딕셔너리 요소 수정\n",
        "d['python'] = '뉴파이썬'\n",
        "print(f\"수정후 - d = {d}\")\n",
        "\n",
        "# 5. 딕셔너리 요소 삭제\n",
        "del d['basic']\n",
        "print(f\"삭제 후 d = {d}\")\n",
        "d.clear()\n",
        "print(f\"삭제-clear() 후 d = {d}\")\n",
        "\n",
        "# 5. 유효성 검사\n",
        "d={\"python\":\"파이썬\", \"basic\":\"기초\", \"programming\":\"프로그래밍\"}\n",
        "print(f'\"basic\" in d - {\"basic\" in d }')\n",
        "print(f'\"python\" in d - {\"python\"in d }')"
      ],
      "metadata": {
        "colab": {
          "base_uri": "https://localhost:8080/"
        },
        "id": "5OJVtl6V2sJG",
        "outputId": "9104010e-6e02-4ded-cbb7-a046d6dd3560"
      },
      "execution_count": 5,
      "outputs": [
        {
          "output_type": "stream",
          "name": "stdout",
          "text": [
            "d = {'python': '파이썬', 'basic': '기초', 'programming': '프로그래밍'}\n",
            "요소접근 - 파이썬\n",
            "get 함수이용한 요소 접근 - 파이썬\n",
            "get 함수이용한 요소 접근 - 해당 키가 없습니다\n",
            "추가후 - d = {'python': '파이썬', 'basic': '기초', 'programming': '프로그래밍', 'java': '자바', 'sql': '데이터베이스쿼리언어'}\n",
            "수정후 - d = {'python': '뉴파이썬', 'basic': '기초', 'programming': '프로그래밍', 'java': '자바', 'sql': '데이터베이스쿼리언어'}\n",
            "삭제 후 d = {'python': '뉴파이썬', 'programming': '프로그래밍', 'java': '자바', 'sql': '데이터베이스쿼리언어'}\n",
            "삭제-clear() 후 d = {}\n",
            "\"basic\" in d - True\n",
            "\"python\" in d - True\n"
          ]
        }
      ]
    },
    {
      "cell_type": "markdown",
      "source": [
        "## **2.2 딕셔너리와 반복**\n",
        "\n",
        "* 키 목록 : d.keys()\n",
        "* 값 목록 : d.values()\n",
        "* 키:값 목록 : d.items()\n",
        "\n",
        "* for 반복분 : dic 객체 이용, 키 목록 이용"
      ],
      "metadata": {
        "id": "Sw9_bUhq7KNh"
      }
    },
    {
      "cell_type": "code",
      "source": [
        "# 딕셔너리와 반복문\n",
        "d = {'python':'파이썬'  ,'basic':'기초'   , 'programming':'프로그래밍'}\n",
        "\n",
        "print(f'딕셔너리 d = {d}')\n",
        "print(f'딕셔너리 d의 키 목록 = {d.keys()}')\n",
        "print(f'딕셔너리 d의 값 목록 = {d.values()}')\n",
        "print(f'딕셔너리 d의 키:값 목록 = {d.items()}')\n",
        "\n",
        "print('\\n=========================')\n",
        "# 1. 딕셔너리 객체 자체 이용한 for\n",
        "for key in d:\n",
        "    print(f'{key} - {d[key]}', end = ' ')\n",
        "\n",
        "print('\\n=========================')\n",
        "# 2. 딕셔너리의 키 목록을 이용한 for\n",
        "for key in d.keys():\n",
        "    print(f'{key} - {d[key]}', end = ' ')\n",
        "\n",
        "print('\\n=========================')\n",
        "# 3. 딕셔너리의 항목(키, 값) 목록을 이용한 for\n",
        "for item in d.items():\n",
        "    print(f'{item}  ')"
      ],
      "metadata": {
        "colab": {
          "base_uri": "https://localhost:8080/"
        },
        "id": "6Q5KseXt7Rdy",
        "outputId": "fb34128e-9310-488e-e471-98dfe1f368ca"
      },
      "execution_count": 7,
      "outputs": [
        {
          "output_type": "stream",
          "name": "stdout",
          "text": [
            "딕셔너리 d = {'python': '파이썬', 'basic': '기초', 'programming': '프로그래밍'}\n",
            "딕셔너리 d의 키 목록 = dict_keys(['python', 'basic', 'programming'])\n",
            "딕셔너리 d의 값 목록 = dict_values(['파이썬', '기초', '프로그래밍'])\n",
            "딕셔너리 d의 키:값 목록 = dict_items([('python', '파이썬'), ('basic', '기초'), ('programming', '프로그래밍')])\n",
            "\n",
            "=========================\n",
            "python - 파이썬 basic - 기초 programming - 프로그래밍 \n",
            "=========================\n",
            "python - 파이썬 basic - 기초 programming - 프로그래밍 \n",
            "=========================\n",
            "('python', '파이썬')  \n",
            "('basic', '기초')  \n",
            "('programming', '프로그래밍')  \n"
          ]
        }
      ]
    }
  ]
}