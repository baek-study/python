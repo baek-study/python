{
  "nbformat": 4,
  "nbformat_minor": 0,
  "metadata": {
    "colab": {
      "provenance": [],
      "authorship_tag": "ABX9TyMFVBfr2kcXiyS5WptWJoGj",
      "include_colab_link": true
    },
    "kernelspec": {
      "name": "python3",
      "display_name": "Python 3"
    },
    "language_info": {
      "name": "python"
    }
  },
  "cells": [
    {
      "cell_type": "markdown",
      "metadata": {
        "id": "view-in-github",
        "colab_type": "text"
      },
      "source": [
        "<a href=\"https://colab.research.google.com/github/baek-study/python/blob/main/source/week13.ipynb\" target=\"_parent\"><img src=\"https://colab.research.google.com/assets/colab-badge.svg\" alt=\"Open In Colab\"/></a>"
      ]
    },
    {
      "cell_type": "markdown",
      "source": [
        "# **1부 복합자료형과 함수**\n",
        "\n",
        "리스트와 딕셔너리가 함수의 매개변수, 반환형인 경우\n",
        "\n",
        "\n"
      ],
      "metadata": {
        "id": "f-xkcedf6rli"
      }
    },
    {
      "cell_type": "markdown",
      "source": [
        "## **1.1 리스트와 함수**\n",
        "\n",
        "\n",
        "* 리스트를 매개변수로 전달\n",
        "* 함수안에서 리스트 객체 변경시 - 새로운 리스트로 대입\n",
        "\n"
      ],
      "metadata": {
        "id": "8qPQebzSARjc"
      }
    },
    {
      "cell_type": "code",
      "source": [
        "# 1. 리스트가 매개변수 일때 - 단지 사용만\n",
        "def func1(list):\n",
        "    print(f'func1 함수 내 list - id {id(list)} - {list}')\n",
        "\n",
        "values = [0, 1, 2, 3, 4, 5]\n",
        "print(f'func1 함수 호출 전 values - id {id(values)} - {values}')\n",
        "func1(values)\n",
        "print(f'func1 함수 호출 후 values - id {id(values)} - {values}\\n')\n",
        "\n",
        "# 2. 리스트가 매개변수 일때 - 리스트의 원소를 수정할때\n",
        "def func2(list):\n",
        "    # list 인덱스 0의 값을  99로 수정\n",
        "    list[0] = 99\n",
        "    print(f'func2 함수 내 list - id {id(list)} - {list}')\n",
        "\n",
        "values = [0, 1, 2, 3, 4, 5]\n",
        "print(f'func2 함수 호출 전 values - id {id(values)} -  {values}')\n",
        "func2(values)\n",
        "print(f'func2 함수 호출 후 values - id {id(values)} - {values}\\n')\n",
        "\n",
        "# 3. 리스트가 매개변수 일때 - 리스트의 자체를 새로운 것으로 수정할때\n",
        "def func3(list):\n",
        "    # list를 새로운 리스트로 변경\n",
        "    list = [10, 20, 30, 40, 50]\n",
        "    print(f'func3 함수 내 list - id {id(list)} - {list}')\n",
        "\n",
        "values = [0, 1, 2, 3, 4, 5]\n",
        "print(f'func3 함수 호출 전 values - id {id(values)} - {values}')\n",
        "func3(values)\n",
        "print(f'func3 함수 호출 후 values - id {id(values)} - {values}\\n')\n",
        "\n",
        "# 4. 리스트가 반환형 일 때\n",
        "def func4():\n",
        "    # 리스트를 임의로 하나 생성\n",
        "    list = [11, 22, 33, 44, 55]\n",
        "    # 그 리스트를 반환\n",
        "    return list\n",
        "\n",
        "result = func4()\n",
        "print(f'func4 함수 호출 후 result - {result}')"
      ],
      "metadata": {
        "colab": {
          "base_uri": "https://localhost:8080/"
        },
        "id": "Kyd6GMIx65Bq",
        "outputId": "5d8191d2-72de-4328-ea00-5a2d461e3d87"
      },
      "execution_count": 5,
      "outputs": [
        {
          "output_type": "stream",
          "name": "stdout",
          "text": [
            "func1 함수 호출 전 values - id 136136241006592 - [0, 1, 2, 3, 4, 5]\n",
            "func1 함수 내 list - id 136136241006592 - [0, 1, 2, 3, 4, 5]\n",
            "func1 함수 호출 후 values - id 136136241006592 - [0, 1, 2, 3, 4, 5]\n",
            "\n",
            "func2 함수 호출 전 values - id 136136241015872 -  [0, 1, 2, 3, 4, 5]\n",
            "func2 함수 내 list - id 136136241015872 - [99, 1, 2, 3, 4, 5]\n",
            "func2 함수 호출 후 values - id 136136241015872 - [99, 1, 2, 3, 4, 5]\n",
            "\n",
            "func3 함수 호출 전 values - id 136136241015680 - [0, 1, 2, 3, 4, 5]\n",
            "func3 함수 내 list - id 136136241007104 - [10, 20, 30, 40, 50]\n",
            "func3 함수 호출 후 values - id 136136241015680 - [0, 1, 2, 3, 4, 5]\n",
            "\n",
            "func4 함수 호출 후 result - [11, 22, 33, 44, 55]\n"
          ]
        }
      ]
    },
    {
      "cell_type": "code",
      "source": [
        "#############################\n",
        "## quest 1\n",
        "# 리스트가 반환형인 경우\n",
        "def input_list():\n",
        "    list = []\n",
        "    # for ......\n",
        "    for i in range(4):\n",
        "        # 사용자입력 -> 정수 변환\n",
        "        num = int(input(f'{i+1}번째 입력 : '))\n",
        "        # 리스트에 추가\n",
        "        list.append(num)\n",
        "    return list\n",
        "\n",
        "# 리스트가 매개변수인 경우 - 단지 사용\n",
        "def print_list(list):\n",
        "    # for 이용\n",
        "    for item in list:\n",
        "        print(item)\n",
        "\n",
        "result = input_list()\n",
        "print(result)\n",
        "print_list(result)"
      ],
      "metadata": {
        "colab": {
          "base_uri": "https://localhost:8080/"
        },
        "id": "3BiPMKaVGL27",
        "outputId": "dea8d272-d3a7-49d8-b2c5-ca199b163c03"
      },
      "execution_count": 13,
      "outputs": [
        {
          "output_type": "stream",
          "name": "stdout",
          "text": [
            "1번째 입력 : 12\n",
            "2번째 입력 : 34\n",
            "3번째 입력 : 56\n",
            "4번째 입력 : 78\n",
            "[12, 34, 56, 78]\n",
            "12\n",
            "34\n",
            "56\n",
            "78\n"
          ]
        }
      ]
    },
    {
      "cell_type": "markdown",
      "source": [
        "## **1.2 이중리스트**\n",
        "\n",
        "* 리스트의 리스트 :  scores = [[1,2], [3,4]]\n",
        "* 중첩 for 를 이용하여 반복\n"
      ],
      "metadata": {
        "id": "DUQob-I-Md1m"
      }
    },
    {
      "cell_type": "code",
      "source": [
        "#1. 이중 리스트 - 생성\n",
        "scores = [['홍길동', 90, 80],['mju', 95, 100]]\n",
        "\n",
        "print(scores)\n",
        "\n",
        "#2. 이중리스트와 반복 - 중첩 for - 리스트 객체, 인덱스를 이용\n",
        "#2.1 중첩 for - 리스트 객체\n",
        "for g in scores :\n",
        "    print(g)\n",
        "    for e in g :\n",
        "        print('-', e)\n",
        "\n",
        "print(\"#####################\")\n",
        "\n",
        "#2.2 중첩 for - 인덱스 이용\n",
        "for i in range(len(scores)):\n",
        "    temp = scores[i]\n",
        "    for j in range(len(temp)):\n",
        "        print('-',scores[i][j])\n"
      ],
      "metadata": {
        "colab": {
          "base_uri": "https://localhost:8080/"
        },
        "id": "5OJVtl6V2sJG",
        "outputId": "4a5e6513-8b57-4bea-82bc-09b32a84a468"
      },
      "execution_count": 10,
      "outputs": [
        {
          "output_type": "stream",
          "name": "stdout",
          "text": [
            "[['홍길동', 90, 80], ['mju', 95, 100]]\n",
            "['홍길동', 90, 80]\n",
            "- 홍길동\n",
            "- 90\n",
            "- 80\n",
            "['mju', 95, 100]\n",
            "- mju\n",
            "- 95\n",
            "- 100\n",
            "#####################\n",
            "- 홍길동\n",
            "- 90\n",
            "- 80\n",
            "- mju\n",
            "- 95\n",
            "- 100\n"
          ]
        }
      ]
    },
    {
      "cell_type": "code",
      "source": [
        "# 리스트 입력 함수\n",
        "def input_list():\n",
        "    list = []\n",
        "    # for ......\n",
        "    for i in range(2):\n",
        "        # 사용자입력 -> 정수 변환\n",
        "        num = int(input(f'{i+1}번째 입력 : '))\n",
        "        # 리스트에 추가\n",
        "        list.append(num)\n",
        "    return list\n",
        "\n",
        "# 이중 리스트 출력 함수\n",
        "def print_list(lists):\n",
        "    for g in lists :\n",
        "        print(g)\n",
        "        for e in g :\n",
        "            print('-', e)\n",
        "\n",
        "glist = []\n",
        "for a in range(3):\n",
        "    list = input_list()\n",
        "    glist.append(list)\n",
        "\n",
        "print_list(glist)\n"
      ],
      "metadata": {
        "colab": {
          "base_uri": "https://localhost:8080/"
        },
        "id": "1ToeiDiSHO6T",
        "outputId": "4461daba-0eb0-44b8-fe17-eadb00792836"
      },
      "execution_count": 16,
      "outputs": [
        {
          "output_type": "stream",
          "name": "stdout",
          "text": [
            "1번째 입력 : 1\n",
            "2번째 입력 : 2\n",
            "1번째 입력 : 3\n",
            "2번째 입력 : 4\n",
            "1번째 입력 : 5\n",
            "2번째 입력 : 6\n",
            "[1, 2]\n",
            "- 1\n",
            "- 2\n",
            "[3, 4]\n",
            "- 3\n",
            "- 4\n",
            "[5, 6]\n",
            "- 5\n",
            "- 6\n"
          ]
        }
      ]
    },
    {
      "cell_type": "markdown",
      "source": [
        "## **1.3 딕셔너리와 함수**\n",
        "\n",
        "*  딕셔너리가 매개변수 일때 : 딕셔너리, 키\n",
        "\n"
      ],
      "metadata": {
        "id": "Sw9_bUhq7KNh"
      }
    },
    {
      "cell_type": "code",
      "source": [
        "#1. 매개변수가 딕셔너리인 경우 - 값을 가져오는 것\n",
        "#매개변수 - 딕셔너리, 키\n",
        "\n",
        "# 딕셔너리 생성\n",
        "dic = {'python':'파이썬', 'basic':'기초', 'programming':'프로그래밍'}\n",
        "\n",
        "#1.1 요소 접근 하는 함수로 작성 - 유효성 검사\n",
        "def func1(dic, key):\n",
        "    if key in dic:\n",
        "        return dic[key]\n",
        "    else:\n",
        "        return None\n",
        "\n",
        "result = func1(dic, 'python')\n",
        "print(f'요소 접근하는 함수 - python : {result}')\n",
        "\n",
        "#1.2 결과값 - 오류 처리\n",
        "result = func1(dic, 0)\n",
        "if result != None :\n",
        "    print(result)\n",
        "else:\n",
        "    print(\"오류: 딕셔너리에 키 값이 없습니다.\")"
      ],
      "metadata": {
        "colab": {
          "base_uri": "https://localhost:8080/"
        },
        "id": "6Q5KseXt7Rdy",
        "outputId": "0ad3de4e-66a7-421c-ce6c-395bf2ad7673"
      },
      "execution_count": 12,
      "outputs": [
        {
          "output_type": "stream",
          "name": "stdout",
          "text": [
            "요소 접근하는 함수 - python : 파이썬\n",
            "오류: 딕셔너리에 키 값이 없습니다.\n"
          ]
        }
      ]
    },
    {
      "cell_type": "code",
      "source": [
        "# quest 3.\n",
        "# 1. 빈 딕셔너리 생성\n",
        "dic = { }\n",
        "while True:\n",
        "    # 2. 사용자 입력 - 문자열  name, id\n",
        "    name = input('학생의 이름:')\n",
        "    id = input('학생의 학번:')\n",
        "\n",
        "    if id=='0':\n",
        "        break\n",
        "\n",
        "    # 3. 딕셔너리에 추가\n",
        "    dic[id] = name\n",
        "\n",
        "\n",
        "print(f'dic - {dic}')"
      ],
      "metadata": {
        "colab": {
          "base_uri": "https://localhost:8080/"
        },
        "id": "8l0jdg7xIoZa",
        "outputId": "dec9e10b-b3ae-4136-9693-7280d225dad4"
      },
      "execution_count": 17,
      "outputs": [
        {
          "output_type": "stream",
          "name": "stdout",
          "text": [
            "학생의 이름:hong\n",
            "학생의 학번:11\n",
            "학생의 이름:mju\n",
            "학생의 학번:0\n",
            "dic - {'11': 'hong'}\n"
          ]
        }
      ]
    },
    {
      "cell_type": "markdown",
      "source": [
        "# **2부 파일**\n",
        "\n",
        "\n",
        "*  3단계 : 파일 열기(open()) - 읽고/쓰기 - 파일 닫기(close())\n"
      ],
      "metadata": {
        "id": "NFUFwvUiA-mj"
      }
    },
    {
      "cell_type": "markdown",
      "source": [
        "##**2.1 파일쓰기**\n",
        "\n",
        "* write() :\n",
        "* writelines() :\n",
        "\n",
        "\n",
        "\n"
      ],
      "metadata": {
        "id": "z7AApIlt8Pzq"
      }
    },
    {
      "cell_type": "code",
      "source": [
        "#1. 파일 열고 닫기 - 쓰기 모드\n",
        "outfile = open('example.txt', 'w')\n",
        "outfile.write('hong\\n')    # 쓰기\n",
        "outfile.write('mju\\n')    # 쓰기\n",
        "print(f'write() 함수 후 = {outfile}')\n",
        "outfile.close()\n",
        "\n",
        "#1. 파일 열고 닫기 - 쓰기 모드\n",
        "outfile = open('example.txt', 'w')\n",
        "lines = ['hong\\n', 'mju\\n']\n",
        "outfile.writelines(lines)    # 쓰기\n",
        "print(f'writelines() 함수 후 = {outfile}')\n",
        "outfile.close()"
      ],
      "metadata": {
        "id": "5na-_l808Xdq",
        "colab": {
          "base_uri": "https://localhost:8080/"
        },
        "outputId": "cd0801a5-fc20-4be4-b47b-c351731f9a1a"
      },
      "execution_count": 25,
      "outputs": [
        {
          "output_type": "stream",
          "name": "stdout",
          "text": [
            "write() 함수 후 = <_io.TextIOWrapper name='example.txt' mode='w' encoding='UTF-8'>\n",
            "writelines() 함수 후 = <_io.TextIOWrapper name='example.txt' mode='w' encoding='UTF-8'>\n"
          ]
        }
      ]
    },
    {
      "cell_type": "markdown",
      "source": [
        "##**2.1 파일 읽기**\n",
        "\n",
        "* read() : 한꺼번에 읽음, 문자열로 리턴\n",
        "* readlines() : 한꺼번에 읽음, 리스트로 리턴\n",
        "*  readline() : 한줄씩 읽음, 문자열로 리턴"
      ],
      "metadata": {
        "id": "M392tgfK8wNr"
      }
    },
    {
      "cell_type": "code",
      "source": [
        "# 1. 파일 열고 닫기 - 읽기 모드\n",
        "infile = open('example.txt', 'r')\n",
        "msg = infile.read()            # 읽기\n",
        "infile.close()\n",
        "\n",
        "print(f'read() 수행 후 - {msg}')\n",
        "\n",
        "infile = open('example.txt', 'r')\n",
        "msg1 = infile.readlines()            # 읽기\n",
        "infile.close()\n",
        "\n",
        "print(f'readlines() 수행 후 - {msg1}')\n",
        "\n",
        "infile = open('example.txt', 'r')\n",
        "while True:\n",
        "  line = infile.readline().strip()        # 읽기\n",
        "  if line == \"\":\n",
        "    break;\n",
        "  print(f'readline() - {line}')\n",
        "infile.close()"
      ],
      "metadata": {
        "colab": {
          "base_uri": "https://localhost:8080/"
        },
        "id": "IDBYdD4Y87fy",
        "outputId": "c5c62fb0-9aae-445a-ee3b-451cabef75ac"
      },
      "execution_count": 22,
      "outputs": [
        {
          "output_type": "stream",
          "name": "stdout",
          "text": [
            "read() 수행 후 - hong\n",
            "mju\n",
            "\n",
            "readlines() 수행 후 - ['hong\\n', 'mju\\n']\n",
            "readline() - hong\n",
            "readline() - mju\n"
          ]
        }
      ]
    }
  ]
}