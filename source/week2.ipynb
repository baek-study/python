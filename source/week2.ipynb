{
  "nbformat": 4,
  "nbformat_minor": 0,
  "metadata": {
    "colab": {
      "provenance": [],
      "include_colab_link": true
    },
    "kernelspec": {
      "name": "python3",
      "display_name": "Python 3"
    },
    "language_info": {
      "name": "python"
    }
  },
  "cells": [
    {
      "cell_type": "markdown",
      "metadata": {
        "id": "view-in-github",
        "colab_type": "text"
      },
      "source": [
        "<a href=\"https://colab.research.google.com/github/baek-study/python/blob/main/week2.ipynb\" target=\"_parent\"><img src=\"https://colab.research.google.com/assets/colab-badge.svg\" alt=\"Open In Colab\"/></a>"
      ]
    },
    {
      "cell_type": "markdown",
      "source": [
        "# 1. **파이썬 구성요소**\n",
        "\n",
        "\n",
        "*   주석 : 코드 의도 설명\n",
        "*   문장 : 인터프리터에 의해 해석\n",
        "\n"
      ],
      "metadata": {
        "id": "tmy-JLQbNNbO"
      }
    },
    {
      "cell_type": "code",
      "source": [
        "# 파이썬과의 첫 만남 프린트"
      ],
      "metadata": {
        "id": "FqCj_3WTNYpF"
      },
      "execution_count": null,
      "outputs": []
    },
    {
      "cell_type": "markdown",
      "source": [
        "## **1.1 주석**\n",
        "\n",
        "\n",
        "*   한줄 주석 : #\n",
        "*   여러줄 주석 : 세개의 큰따옴표 또는 작은 따옴표\n",
        "\n"
      ],
      "metadata": {
        "id": "wLaIki1Hu7tJ"
      }
    },
    {
      "cell_type": "code",
      "source": [
        "# 주석 연습\n",
        "\n",
        "\n",
        "print(\"hello\")"
      ],
      "metadata": {
        "colab": {
          "base_uri": "https://localhost:8080/"
        },
        "id": "ma08CduVNovF",
        "outputId": "c37b39f6-c3e8-45c5-8d17-83fe6fe34943"
      },
      "execution_count": null,
      "outputs": [
        {
          "output_type": "stream",
          "name": "stdout",
          "text": [
            "hello\n"
          ]
        }
      ]
    },
    {
      "cell_type": "code",
      "source": [
        "# 인트로 주석 연습"
      ],
      "metadata": {
        "id": "9tIKKJpCPMwK"
      },
      "execution_count": null,
      "outputs": []
    },
    {
      "cell_type": "markdown",
      "source": [
        "## **1.2 문장(Statement)**\n",
        "인터프리터에 의해 해석 되고 처리를 수행하는 명령어"
      ],
      "metadata": {
        "id": "SUSHxQCXSpI6"
      }
    },
    {
      "cell_type": "code",
      "source": [
        "# 문장 예제 1  ; 버전\n"
      ],
      "metadata": {
        "id": "2aAJsCrDvna5"
      },
      "execution_count": null,
      "outputs": []
    },
    {
      "cell_type": "code",
      "source": [
        "# 문장 예제 2  ; ,없는 버전\n"
      ],
      "metadata": {
        "id": "7w4_xvswv9nJ"
      },
      "execution_count": null,
      "outputs": []
    },
    {
      "cell_type": "code",
      "source": [
        "# 문장 예제 3 한줄에 쓰는 버전\n"
      ],
      "metadata": {
        "id": "fjN3NYvGwD_R"
      },
      "execution_count": null,
      "outputs": []
    },
    {
      "cell_type": "markdown",
      "source": [
        "## **[함수]**\n",
        "특정한 작업을 수행 위해 작성된 독립 코드<br>\n",
        "함수 이름, 입력 받고-작업 실행-결과 반환<br>"
      ],
      "metadata": {
        "id": "y4Z8uJ9nS-wZ"
      }
    },
    {
      "cell_type": "code",
      "source": [
        "#수학: 함수정의:f(x)=x+2, 호출:f(2), 결과: 4\n",
        "#1. 함수 정의\n",
        "def f(x):\n",
        "    return x+2\n",
        "\n",
        "# 함수 호출 연습\n"
      ],
      "metadata": {
        "id": "v2KPED7Maf5q"
      },
      "execution_count": null,
      "outputs": []
    },
    {
      "cell_type": "markdown",
      "source": [
        "<br>\n",
        "<br>\n",
        "\n",
        "\n",
        "---\n",
        "\n",
        "\n",
        "\n"
      ],
      "metadata": {
        "id": "rdywrfU-x7oJ"
      }
    },
    {
      "cell_type": "markdown",
      "source": [
        "# **2. 표준 출력 함수:print()**"
      ],
      "metadata": {
        "id": "Dm97KYi4wOIB"
      }
    },
    {
      "cell_type": "markdown",
      "source": [
        "## **2.1 문자열 출력:print()**\n",
        "\n",
        "문자열을 출력, 문자열을 출력 후 줄 바꿈 처리\n",
        "\n"
      ],
      "metadata": {
        "id": "RlK4In2jOOvG"
      }
    },
    {
      "cell_type": "code",
      "source": [
        "# 문자열 출력 연습\n"
      ],
      "metadata": {
        "id": "GGSR8cC2OaP-"
      },
      "execution_count": null,
      "outputs": []
    },
    {
      "cell_type": "markdown",
      "source": [
        "## [다음 코드의 오류를 수정하시오]"
      ],
      "metadata": {
        "id": "wTYDbXAJxxJx"
      }
    },
    {
      "cell_type": "code",
      "source": [
        "print(안녕하세요?)\n",
        "Print(\"이번 코드에는 많은 오류가 있다네요\")\n",
        "print(\"제가 다 고쳐 보겠습니다.)"
      ],
      "metadata": {
        "id": "_3gn8gNyxp3x"
      },
      "execution_count": null,
      "outputs": []
    },
    {
      "cell_type": "markdown",
      "source": [
        "## **2.2 다양한 자료형 출력**\n",
        "숫자, 수식 등 여러가지 자료형 출력"
      ],
      "metadata": {
        "id": "X8DKgjN3OgWN"
      }
    },
    {
      "cell_type": "code",
      "source": [
        "# 다양한 자료형 출력 연습\n",
        "\n"
      ],
      "metadata": {
        "id": "rZynJZjbOmJW"
      },
      "execution_count": null,
      "outputs": []
    },
    {
      "cell_type": "markdown",
      "source": [
        "## **2.3. 여러 개의 값 출력**\n",
        "여러개 값 각각은 콤마(,)로 구분, 공백 1 칸씩 띄어 출력\n"
      ],
      "metadata": {
        "id": "Z-9mwO75Oy7e"
      }
    },
    {
      "cell_type": "code",
      "source": [
        "# 다양한 자료형 출력 연습\n",
        "\n",
        "\n"
      ],
      "metadata": {
        "id": "OGTTHJr0O-32"
      },
      "execution_count": null,
      "outputs": []
    },
    {
      "cell_type": "markdown",
      "source": [
        "## 2.4. **출력 제어 문자**\n",
        "\\n : 새로운 줄로 이동, \\t : 다음 탭으로 이동"
      ],
      "metadata": {
        "id": "PjDDRJpyPYWu"
      }
    },
    {
      "cell_type": "code",
      "source": [
        "# 출력 제어 문자\n",
        "\n"
      ],
      "metadata": {
        "id": "JFUJrsVzxQH5"
      },
      "execution_count": null,
      "outputs": []
    },
    {
      "cell_type": "markdown",
      "source": [
        "## 2.5. **문자열 + : 병합**\n",
        "문자+문자 = 문자병합, 숫자+숫자=연산"
      ],
      "metadata": {
        "id": "QtHmQIr6Nt5C"
      }
    },
    {
      "cell_type": "code",
      "source": [
        "# 문자열간의 +\n",
        "\n",
        "\n"
      ],
      "metadata": {
        "id": "1WAIOqrQOGRB"
      },
      "execution_count": null,
      "outputs": []
    },
    {
      "cell_type": "markdown",
      "source": [
        "<br>\n",
        "<br>\n",
        "\n",
        "\n",
        "\n",
        "\n",
        "---\n",
        "\n",
        "\n",
        "\n"
      ],
      "metadata": {
        "id": "RGFTHMWIMbZZ"
      }
    },
    {
      "cell_type": "markdown",
      "source": [
        "# **3. 자료형(Data Type)**\n",
        "- 정수형, 실수형, 문자열형, 논리형"
      ],
      "metadata": {
        "id": "PZaid-02JnMZ"
      }
    },
    {
      "cell_type": "markdown",
      "source": [
        "## 3.1. **정수형(int)**\n",
        "소수점 없는 숫자, 파이썬 정수는\n",
        "\n",
        "```\n",
        "# 코드로 형식 지정됨\n",
        "```\n",
        "\n",
        "크기 제한 없음"
      ],
      "metadata": {
        "id": "WZGJpyo3JH_h"
      }
    },
    {
      "cell_type": "code",
      "source": [
        "# 정수형 연습\n",
        "\n"
      ],
      "metadata": {
        "id": "FvjP6mwuJHXa"
      },
      "execution_count": null,
      "outputs": []
    },
    {
      "cell_type": "markdown",
      "source": [
        "## 3.2. **실수형(float)**\n",
        "소수점 포함한 수, 부동소수점(3.14*e12 <-3.14 * 10<sup>10</sup>)"
      ],
      "metadata": {
        "id": "e-uTFav2KDsh"
      }
    },
    {
      "cell_type": "code",
      "source": [
        "# 실수형 연습\n",
        "\n"
      ],
      "metadata": {
        "id": "9V5iq9-WKqTJ"
      },
      "execution_count": null,
      "outputs": []
    },
    {
      "cell_type": "markdown",
      "source": [
        "## 3.3. **문자열형(str)**\n",
        "단일 문자 집합, 작은따옴표/큰따옴표 로 감싼 문자 묶음"
      ],
      "metadata": {
        "id": "O9VjMCuEKy_Z"
      }
    },
    {
      "cell_type": "code",
      "source": [
        "# 문자열형 연습\n",
        "\n"
      ],
      "metadata": {
        "id": "28XUQ8FxKx0Z"
      },
      "execution_count": null,
      "outputs": []
    },
    {
      "cell_type": "markdown",
      "source": [
        "### ▶ **문자열 + : 병합**\n",
        "문자+문자 = 문자병합, 숫자+숫자=연산"
      ],
      "metadata": {
        "id": "80WjBoZURqLi"
      }
    },
    {
      "cell_type": "code",
      "source": [
        "# 문자열 병합 연습\n",
        "\n"
      ],
      "metadata": {
        "id": "Nbe4QpSvRz8p"
      },
      "execution_count": null,
      "outputs": []
    },
    {
      "cell_type": "markdown",
      "source": [
        "## 3.4. **논리형(bool)**\n",
        "참과 거짓으로 표현, True(참), False(거짓)"
      ],
      "metadata": {
        "id": "C06yE6pDLNFp"
      }
    },
    {
      "cell_type": "code",
      "source": [
        "# 논리형 연습\n",
        "\n"
      ],
      "metadata": {
        "id": "AJUVh4oQLZuJ"
      },
      "execution_count": null,
      "outputs": []
    },
    {
      "cell_type": "markdown",
      "source": [
        "## 3.5. **자료형 확인 type()**\n",
        "정수(int), 실수(float), 문자열(str), 논리(bool)"
      ],
      "metadata": {
        "id": "gFD3GeoJLdxR"
      }
    },
    {
      "cell_type": "code",
      "source": [
        "# 자료형 확인 연습\n",
        "\n"
      ],
      "metadata": {
        "id": "kXJpUmixL_oJ"
      },
      "execution_count": null,
      "outputs": []
    },
    {
      "cell_type": "markdown",
      "source": [
        "## 3.6. **자료형 정수 변환 int()**\n",
        "문자열이나 실수를 정수로 강제 변환"
      ],
      "metadata": {
        "id": "1hGsYGq_MCZR"
      }
    },
    {
      "cell_type": "code",
      "source": [
        "# 정수 변환 연습\n",
        "\n"
      ],
      "metadata": {
        "id": "wCrvIPNiNcSh"
      },
      "execution_count": null,
      "outputs": []
    }
  ]
}
