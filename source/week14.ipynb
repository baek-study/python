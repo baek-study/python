{
  "nbformat": 4,
  "nbformat_minor": 0,
  "metadata": {
    "colab": {
      "provenance": [],
      "authorship_tag": "ABX9TyMRpndzGL8hjxry26cz8yQ2",
      "include_colab_link": true
    },
    "kernelspec": {
      "name": "python3",
      "display_name": "Python 3"
    },
    "language_info": {
      "name": "python"
    }
  },
  "cells": [
    {
      "cell_type": "markdown",
      "metadata": {
        "id": "view-in-github",
        "colab_type": "text"
      },
      "source": [
        "<a href=\"https://colab.research.google.com/github/baek-study/python/blob/main/source/week14.ipynb\" target=\"_parent\"><img src=\"https://colab.research.google.com/assets/colab-badge.svg\" alt=\"Open In Colab\"/></a>"
      ]
    },
    {
      "cell_type": "markdown",
      "source": [
        "# **1부 파일 2**\n"
      ],
      "metadata": {
        "id": "f-xkcedf6rli"
      }
    },
    {
      "cell_type": "markdown",
      "source": [
        "## **1.1 파일 읽기 - 객체 이용**\n",
        "\n",
        "\n",
        "*  파일 객체(변수) 사용\n"
      ],
      "metadata": {
        "id": "8qPQebzSARjc"
      }
    },
    {
      "cell_type": "code",
      "source": [
        "# [읽기 연습을 위한 파일 쓰기]\n",
        "outfile = open(\"example1.txt\", 'w')\n",
        "outfile.write('hong\\n')\n",
        "outfile.write('kim\\n')\n",
        "outfile.close()\n",
        "print('example1.txt에 파일 쓰기 완료!!!')\n",
        "\n",
        "# 1. 파일 읽기 - 객체 이용\n",
        "infile = open('example1.txt', 'r')\n",
        "for line in infile:\n",
        "    print(line.strip())\n",
        "\n",
        "infile.close()\n",
        "print('end')\n"
      ],
      "metadata": {
        "colab": {
          "base_uri": "https://localhost:8080/"
        },
        "id": "Kyd6GMIx65Bq",
        "outputId": "b10bc69c-55af-4c17-a499-3385e06a3629"
      },
      "execution_count": 2,
      "outputs": [
        {
          "output_type": "stream",
          "name": "stdout",
          "text": [
            "example1.txt에 파일 쓰기 완료!!!\n",
            "hong\n",
            "kim\n",
            "end\n"
          ]
        }
      ]
    },
    {
      "cell_type": "markdown",
      "source": [
        "## **1.2 with 명령문**\n",
        "\n",
        "*  with 표현식 as 변수 : # 코드 블록\n",
        "* with : 자원(리소스)를 안전하고 효율적으로 관리\n",
        "* with를 이용하면 파일을 안전하게 처리 가능\n"
      ],
      "metadata": {
        "id": "Sw9_bUhq7KNh"
      }
    },
    {
      "cell_type": "code",
      "source": [
        "# 파일 닫기를 with 구문 이용하기\n",
        "with open('example1.txt', 'r') as infile:\n",
        "    for line in infile:\n",
        "        print(line.strip())\n",
        "\n",
        "print('end')"
      ],
      "metadata": {
        "colab": {
          "base_uri": "https://localhost:8080/"
        },
        "id": "6Q5KseXt7Rdy",
        "outputId": "5e3aec7e-29ec-4f03-99d3-c9cdc39d6cfa"
      },
      "execution_count": 3,
      "outputs": [
        {
          "output_type": "stream",
          "name": "stdout",
          "text": [
            "hong\n",
            "kim\n",
            "end\n"
          ]
        }
      ]
    },
    {
      "cell_type": "markdown",
      "source": [
        "# **2부 클래스와 객체**\n",
        "\n",
        "\n",
        "*  클래스 : 객체를 만들기 위한 설계도/틀\n",
        "* 객체 : 클래스에서 생성된 실체, 데이터+메소드\n"
      ],
      "metadata": {
        "id": "NFUFwvUiA-mj"
      }
    },
    {
      "cell_type": "markdown",
      "source": [
        "##**2.1 클래스 정의**\n",
        "\n",
        "* 클래스 정의 : 메소드 정의 <br>\n",
        "class 클래스 이름: <br>\n",
        "   &emsp; def 메소드(self, ...):\n",
        "\n",
        "\n",
        "\n"
      ],
      "metadata": {
        "id": "z7AApIlt8Pzq"
      }
    },
    {
      "cell_type": "code",
      "source": [
        "# 1. 클래스 정의\n",
        "class Counter:\n",
        "    # 메소드 - func1\n",
        "    def func1(self):\n",
        "      self.count = 1;\n",
        "      print(f'counter의 func1 함수 {self.count}')\n",
        "\n",
        "    # 메소드 - increament\n",
        "    def increment(self):\n",
        "        self.count += 1\n",
        "        print(f'counter의 increment 함수 {self.count}')"
      ],
      "metadata": {
        "id": "5na-_l808Xdq"
      },
      "execution_count": 16,
      "outputs": []
    },
    {
      "cell_type": "markdown",
      "source": [
        "##**2.2 객체 생성 & 접근**\n",
        "\n",
        "* 클래스로 부터 (메모리에) 구체화된 실체(instance)\n",
        "* 객체 생성 : 객체이름 = 클래스 이름()\n",
        "* 객체 접근 : . 연산자 이용<br>\n",
        "&emsp; 객체이름.메소드이름(), 객체이름.데이터"
      ],
      "metadata": {
        "id": "M392tgfK8wNr"
      }
    },
    {
      "cell_type": "code",
      "source": [
        "# 1.객체 생성\n",
        "\n",
        "a = Counter()\n",
        "a.func1()\n",
        "a.increment()\n",
        "print(f'Counter의 객체 a의 count 값 : {a.count}')\n",
        "\n"
      ],
      "metadata": {
        "colab": {
          "base_uri": "https://localhost:8080/"
        },
        "id": "IDBYdD4Y87fy",
        "outputId": "8c7233f8-cd1a-45fb-e693-c43facbde71b"
      },
      "execution_count": 18,
      "outputs": [
        {
          "output_type": "stream",
          "name": "stdout",
          "text": [
            "counter의 func1 함수 1\n",
            "counter의 increment 함수 2\n",
            "Counter의 객체 a의 count 값 : 2\n"
          ]
        }
      ]
    },
    {
      "cell_type": "markdown",
      "source": [
        "##**2.3 객체 생성자**\n",
        "\n",
        "* 객체가 생성될 때 단 한번 호출되는 메소드\n",
        "<pre> def&#95;&#95;init&#95;&#95;(self, ..) : ...</pre>"
      ],
      "metadata": {
        "id": "Y-oR_cF7nxow"
      }
    },
    {
      "cell_type": "code",
      "source": [
        "# 1. 생성자 연습\n",
        "class Counter:\n",
        "    def __init__(self) :\n",
        "        self.count = 0\n",
        "        print('1. 기본 생성자(메소드)가 실행 되었습니다. ')\n",
        "\n",
        "    def increment(self):\n",
        "        self.count += 1\n",
        "\n",
        "a = Counter()\n",
        "\n",
        "# 2. 생성자 연습\n",
        "class Counter1:\n",
        "    #2.1 매개변수를 가지는 생성자\n",
        "    def __init__(self, value) :\n",
        "        self.count = value\n",
        "        print('1. 기본 생성자(메소드)가 실행 되었습니다. ')\n",
        "\n",
        "    def increment(self):\n",
        "        self.count += 1\n",
        "\n",
        "b = Counter1(10) # 생성자(메소드)에 매개변수가 있어 인수를 가짐\n",
        "print(f'Counter1의 객체 b의 count 값 : {b.count}')\n",
        "b.increment() # 객체 b의 메소드 increament() 호출\n",
        "print(f'Counter1의 객체 b의 count 값 - increment() 호출 후 : {b.count}')\n",
        "\n"
      ],
      "metadata": {
        "colab": {
          "base_uri": "https://localhost:8080/"
        },
        "id": "GwnP3Yh3pwal",
        "outputId": "d33d4b24-f928-478e-83c2-fb09a26a556f"
      },
      "execution_count": 15,
      "outputs": [
        {
          "output_type": "stream",
          "name": "stdout",
          "text": [
            "1. 기본 생성자(메소드)가 실행 되었습니다. \n",
            "1. 기본 생성자(메소드)가 실행 되었습니다. \n",
            "Counter1의 객체 b의 count 값 : 10\n",
            "Counter1의 객체 b의 count 값 - increment() 호출 후 : 11\n"
          ]
        }
      ]
    },
    {
      "cell_type": "markdown",
      "source": [
        "##**2.4 예시**\n",
        "\n",
        "* 반지름이 1인 원과 반지름이 10인 원의 넓이와 둘레 구하기"
      ],
      "metadata": {
        "id": "6YHgCnrbre-1"
      }
    },
    {
      "cell_type": "code",
      "source": [
        "# 1. 원의 클래스 정의\n",
        "class Circle:\n",
        "    #2. 생성자 정의 - 매개변수가 있는 생성자\n",
        "    def __init__(self, number):\n",
        "        print('circle 생성자')\n",
        "        self.radius = number\n",
        "\n",
        "    # 3. 메소드 정의 - 원의 둘레\n",
        "    def getCircum(self):\n",
        "        print('getCircum')\n",
        "        result = self.radius*2*3.14\n",
        "        print(f'원의 둘레는 {result}')\n",
        "        #return result\n",
        "\n",
        "    # 4. 메소드 정의 - 원의 넓이\n",
        "    def getArea(self):\n",
        "        print('getArea')\n",
        "        result = self.radius*self.radius*3.14\n",
        "        print(f'원의 넓이는 {result}')\n",
        "        pass\n",
        "        #return result\n",
        "\n",
        "# 4. 객체 생성 - small\n",
        "small = Circle(1)   # 매개변수가 있음으로 인수 이용\n",
        "# 5. 객체 접근 - . 연산자\n",
        "print(f'원의 객체 small의 데이터 radius : {small.radius}') # 데이터 접근\n",
        "small.getCircum() # 메소드 접근\n",
        "small.getArea()\n",
        "\n",
        "print('===================')\n",
        "\n",
        "# 4. 객체 생성 - small\n",
        "big = Circle(10)\n",
        "# 5. 객체 접근 - . 연산자\n",
        "print(f'원의 객체 big의 데이터 radius : {big.radius}') # 데이터 접근\n",
        "big.getCircum() # 메소드 접근\n",
        "big.getArea()\n"
      ],
      "metadata": {
        "colab": {
          "base_uri": "https://localhost:8080/"
        },
        "id": "YPnhWcLbreZW",
        "outputId": "9d1c6579-4ebd-4557-dafd-88e3a40b364f"
      },
      "execution_count": 20,
      "outputs": [
        {
          "output_type": "stream",
          "name": "stdout",
          "text": [
            "circle 생성자\n",
            "원의 객체 small의 데이터 radius : 1\n",
            "getCircum\n",
            "원의 둘레는 6.28\n",
            "getArea\n",
            "원의 넓이는 3.14\n",
            "===================\n",
            "circle 생성자\n",
            "원의 객체 big의 데이터 radius : 10\n",
            "getCircum\n",
            "원의 둘레는 62.800000000000004\n",
            "getArea\n",
            "원의 넓이는 314.0\n"
          ]
        }
      ]
    },
    {
      "cell_type": "code",
      "source": [],
      "metadata": {
        "id": "cKRkHs3Xnwfa"
      },
      "execution_count": null,
      "outputs": []
    }
  ]
}
