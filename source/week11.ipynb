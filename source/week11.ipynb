{
  "nbformat": 4,
  "nbformat_minor": 0,
  "metadata": {
    "colab": {
      "provenance": [],
      "authorship_tag": "ABX9TyOnAezTrR1dczChBOfFES36",
      "include_colab_link": true
    },
    "kernelspec": {
      "name": "python3",
      "display_name": "Python 3"
    },
    "language_info": {
      "name": "python"
    }
  },
  "cells": [
    {
      "cell_type": "markdown",
      "metadata": {
        "id": "view-in-github",
        "colab_type": "text"
      },
      "source": [
        "<a href=\"https://colab.research.google.com/github/baek-study/python/blob/main/source/week11.ipynb\" target=\"_parent\"><img src=\"https://colab.research.google.com/assets/colab-badge.svg\" alt=\"Open In Colab\"/></a>"
      ]
    },
    {
      "cell_type": "markdown",
      "source": [
        "# **1부 리스트 기초**\n",
        "\n",
        "여러 데이터를 하나로 묶어 순번에 따라 저장\n",
        "\n",
        "*   복합자료형: 여러 데이터를 한덩어리로 모아서 유지\n",
        "* 시퀀스: 순서유지함 (리스트, 문자열, 튜플)\n",
        "\n",
        "\n"
      ],
      "metadata": {
        "id": "f-xkcedf6rli"
      }
    },
    {
      "cell_type": "markdown",
      "source": [
        "## **1.1 리스트 생성**\n",
        "\n",
        "\n",
        "*  이름 = [요소1, 요소2, ....] # 대괄호사용\n",
        "* 모든 요소의 자료형 일치할 필요 없음\n",
        "\n"
      ],
      "metadata": {
        "id": "8qPQebzSARjc"
      }
    },
    {
      "cell_type": "code",
      "source": [
        "# 리스트 생성\n",
        "list1 = [11,22,33,44,55]\n",
        "list2 = [\"단출하게\", \"단아하게\", \"당당하게\"]\n",
        "list3 = []\n",
        "\n",
        "print(f'list1 = {list1}')\n",
        "print(f'list2 = {list2}')\n",
        "print(f'list3 = {list3}')\n",
        "\n",
        "# 모든 요소의 자료형 일치할 필요 없음\n",
        "list4 = [11, '홍길동', 19, 180.5]\n",
        "list5 = [11, '홍길동', [10, 10], 190]\n",
        "\n",
        "print(f'list4 = {list4}')\n",
        "print(f'list5 = {list5}')"
      ],
      "metadata": {
        "colab": {
          "base_uri": "https://localhost:8080/"
        },
        "id": "Kyd6GMIx65Bq",
        "outputId": "5f9c809e-e330-49d1-dc7b-111b3e05965e"
      },
      "execution_count": 1,
      "outputs": [
        {
          "output_type": "stream",
          "name": "stdout",
          "text": [
            "list1 = [11, 22, 33, 44, 55]\n",
            "list2 = ['단출하게', '단아하게', '당당하게']\n",
            "list3 = []\n",
            "list4 = [11, '홍길동', 19, 180.5]\n",
            "list5 = [11, '홍길동', [10, 10], 190]\n"
          ]
        }
      ]
    },
    {
      "cell_type": "markdown",
      "source": [
        "## **1.2 리스트 인덱싱 & 슬라이싱**\n",
        "\n",
        "* 인덱스 : 0부터 양의 정수 배정, 리스트 끝부터는 음의 정수 가능\n",
        "* 인덱싱: 리스트이름[인덱스] - 한 요소 접근\n",
        "* 슬라이싱: 리스트이름[시작:끝:스텝] - 시작에서 끝-1까지 부분 리스트  \n"
      ],
      "metadata": {
        "id": "DUQob-I-Md1m"
      }
    },
    {
      "cell_type": "code",
      "source": [
        "# 리스트 생성\n",
        "temps=[28, 31, 33, 35, 27, 26, 25]\n",
        "# 리스트 인덱싱\n",
        "print(f'temps[3] = {temps[3]}')\n",
        "print(f'temps[-1] = {temps[-1]}')\n",
        "\n",
        "# 리스트 슬라이싱\n",
        "print(f'temps[2:5] = {temps[2:5]}') # 인덱스 2,3,4 값 출력\n",
        "print(f'temps[:5] = {temps[:5]}') # 시작의 디폴트는 0\n",
        "print(f'temps[2:] = {temps[2:]}') # 끝의 디폴트는 리스트길이\n",
        "print(f'temps[2:7:2] = {temps[2:7:2]}') # 스텝의 디폴트는 1\n",
        "print(f'temps[::-1] = {temps[::-1]}') #리스트의 역순"
      ],
      "metadata": {
        "colab": {
          "base_uri": "https://localhost:8080/"
        },
        "id": "5OJVtl6V2sJG",
        "outputId": "7212754e-bddd-46ea-9d87-814952065de6"
      },
      "execution_count": 3,
      "outputs": [
        {
          "output_type": "stream",
          "name": "stdout",
          "text": [
            "temps[3] = 35\n",
            "temps[-1] = 25\n",
            "temps[2:5] = [33, 35, 27]\n",
            "temps[:5] = [28, 31, 33, 35, 27]\n",
            "temps[2:] = [33, 35, 27, 26, 25]\n",
            "temps[2:7:2] = [33, 27, 25]\n",
            "temps[::-1] = [25, 26, 27, 35, 33, 31, 28]\n"
          ]
        }
      ]
    },
    {
      "cell_type": "markdown",
      "source": [
        "## **1.3 리스트 요소 수정**\n",
        "\n",
        "*   인덱싱 수정 : 리스트이름[인덱스] = 교체데이터\n",
        "*   슬라이싱 수정 : 리스트이름[시작:끝] = [교체데이터]\n",
        "* [주의] 리스트이름[인덱스] = [교체테이터] (리스트내의 리스트로 간주됨)\n",
        "\n"
      ],
      "metadata": {
        "id": "Sw9_bUhq7KNh"
      }
    },
    {
      "cell_type": "code",
      "source": [
        "# 리스트 요소 수정\n",
        "nums = [11, 22, 33, 44, 55]\n",
        "print(f'nums = {nums}')\n",
        "\n",
        "# 인덱싱 이용한 수정\n",
        "nums[0] = -1\n",
        "print(f'nums[0] = -1 수정 후 ==> {nums}')\n",
        "\n",
        "\n",
        "# 슬라이싱 이용한 수정\n",
        "nums[1:3] = [100, 200, 300]\n",
        "print(f'nums[1:3] = [100, 200, 300] 수정 후 ==>  {nums}')\n",
        "\n",
        "# 인덱싱에 리스트로 수정 - 리스트안에 리스트\n",
        "nums = [11, 22, 33, 44, 55]\n",
        "nums[1] = [100, 200, 300]\n",
        "print(f'nums[1] = [100, 200, 300] 수정 후 ==>  {nums}')\n"
      ],
      "metadata": {
        "colab": {
          "base_uri": "https://localhost:8080/"
        },
        "id": "6Q5KseXt7Rdy",
        "outputId": "395ff861-c690-4340-d251-a2fa41b22110"
      },
      "execution_count": 10,
      "outputs": [
        {
          "output_type": "stream",
          "name": "stdout",
          "text": [
            "nums = [11, 22, 33, 44, 55]\n",
            "nums[0] = -1 수정 후 ==> [-1, 22, 33, 44, 55]\n",
            "nums[1:3] = [100, 200, 300] 수정 후 ==>  [-1, 100, 200, 300, 44, 55]\n",
            "nums[1] = [100, 200, 300] 수정 후 ==>  [11, [100, 200, 300], 33, 44, 55]\n"
          ]
        }
      ]
    },
    {
      "cell_type": "markdown",
      "source": [
        "## **1.4  리스트 복사**\n",
        "\n",
        "*   얕은 복사: 복사리스트 = 원본리스트  - 주소만 복사\n",
        "*   깊은 복사: 복사리스트 = list(원본리스트) or 원본리스트[:] - 요소 모두 복사\n",
        "\n",
        "\n"
      ],
      "metadata": {
        "id": "QHO1l3LB7fAa"
      }
    },
    {
      "cell_type": "code",
      "source": [
        "# 얕은 복사 - 주소만 같음 - 같은 객체 가리킴\n",
        "nums1 = [11, 22, 33]\n",
        "nums2 = []\n",
        "\n",
        "nums2 = nums1\n",
        "print(f'nums1 = {nums1}, nums2 = {nums2}')\n",
        "\n",
        "# 한 리스트만 바뀌어도, 모두 바뀜\n",
        "nums2[0] = 0\n",
        "print(f'## 얕은 복사에서 nums2[0] = 0 수정 후')\n",
        "print(f'    nums1 = {nums1}, nums2 = {nums2}')\n",
        "\n",
        "#  깊은 복사 - 요소까지 복사 - 다른 것이 됨\n",
        "nums1 = [11, 22, 33]\n",
        "#nums2 = list(nums1)\n",
        "nums2 = nums1[:]\n",
        "\n",
        "print(f'\\nnums1 = {nums1}, nums2 = {nums2}')\n",
        "\n",
        "nums2[0] = 0\n",
        "print(f'## 깊은 복사에서 nums2[0] = 0 수정 후')\n",
        "print(f'   nums1 = {nums1}, nums2 = {nums2}')"
      ],
      "metadata": {
        "colab": {
          "base_uri": "https://localhost:8080/"
        },
        "id": "rQ-rhbBj7pbJ",
        "outputId": "bafed889-6a19-4b3f-aba6-f58f2c3339d8"
      },
      "execution_count": 16,
      "outputs": [
        {
          "output_type": "stream",
          "name": "stdout",
          "text": [
            "nums1 = [11, 22, 33], nums2 = [11, 22, 33]\n",
            "## 얕은 복사에서 nums2[0] = 0 수정 후\n",
            "    nums1 = [0, 22, 33], nums2 = [0, 22, 33]\n",
            "\n",
            "nums1 = [11, 22, 33], nums2 = [11, 22, 33]\n",
            "## 깊은 복사에서 nums2[0] = 0 수정 후\n",
            "   nums1 = [11, 22, 33], nums2 = [0, 22, 33]\n"
          ]
        }
      ]
    },
    {
      "cell_type": "markdown",
      "source": [
        "## **1.5  리스트 연산(+, *, in/notin)**\n",
        "\n",
        "*   리스트 연결 + : 리스트1 + 리스트2\n",
        "* 리스트 반복 *: 리스트 * 정수 (리스트 요소를 정수번 반복)\n",
        "* 존재여부 in/not in: 값 in 리스트"
      ],
      "metadata": {
        "id": "RC1yVVwEUBVd"
      }
    },
    {
      "cell_type": "code",
      "source": [
        "# 리스트 연결 (+)\n",
        "nums1 = [11, 22, 33]\n",
        "nums2 = [44, 55]\n",
        "\n",
        "nums3 = nums1 + nums2\n",
        "print(f'nums1 + nums2 = {nums3}')\n",
        "\n",
        "# 리스트 요소 반복(*)\n",
        "nums4 = nums1 * 2\n",
        "print(f'nums1 * 2 = {nums4}')\n",
        "\n",
        "# 리스트내 값 존재 여부 (in, not in)\n",
        "nums = [11, 22, 33, 44, 55]\n",
        "print(f'22 in nums ={22 in nums}')\n",
        "print(f'66 not in nums = {66 not in nums}')\n"
      ],
      "metadata": {
        "colab": {
          "base_uri": "https://localhost:8080/"
        },
        "id": "-DmKKH9D7uda",
        "outputId": "e069cff8-afff-4cf8-8914-5c660f8494f7"
      },
      "execution_count": 18,
      "outputs": [
        {
          "output_type": "stream",
          "name": "stdout",
          "text": [
            "nums1 + nums2 = [11, 22, 33, 44, 55]\n",
            "nums1 * 2 = [11, 22, 33, 11, 22, 33]\n",
            "22 in nums =True\n",
            "66 not in nums = True\n"
          ]
        }
      ]
    },
    {
      "cell_type": "markdown",
      "source": [
        "## **1.6  리스트와 반복문(for)**\n",
        "\n",
        "*  리스트 이용 : for 변수 in 리스트 : # 변수 - 요소값\n",
        "* range() 이용 : for 변수 in range(0, len(리스트)) : #변수 - 인덱스\n"
      ],
      "metadata": {
        "id": "me_P1sNrVOgz"
      }
    },
    {
      "cell_type": "code",
      "source": [
        "temps = [28, 31, 33 , 35, 27, 26, 25]\n",
        "\n",
        "# 리스트 객체 이용\n",
        "for element in temps:      # element는 요소 값\n",
        "    print(f'{element}', end=' ')\n",
        "\n",
        "# range() 함수 이용\n",
        "print()\n",
        "for i in range(0, len(temps)) : #i는  인덱스\n",
        "    print(f'{temps[i]}', end = ' ')\n",
        "\n",
        "print()\n",
        "for i in range(0, len(temps), 2) :  # 스텝을 이용 가능\n",
        "    print(f'{temps[i]}', end = ' ')"
      ],
      "metadata": {
        "colab": {
          "base_uri": "https://localhost:8080/"
        },
        "id": "R7RahUPX34vf",
        "outputId": "b71b92c7-c951-491e-fe50-34e364f450b6"
      },
      "execution_count": 20,
      "outputs": [
        {
          "output_type": "stream",
          "name": "stdout",
          "text": [
            "28 31 33 35 27 26 25 \n",
            "28 31 33 35 27 26 25 \n",
            "28 33 27 25 "
          ]
        }
      ]
    },
    {
      "cell_type": "markdown",
      "source": [
        "# **2부 리스트의 함수**\n",
        "\n",
        "\n",
        "*  내장함수 : 파이썬에서 제공 함수 - len(리스트이름)\n",
        "* 메소드 : 리스트 객체내의 함수 -리스트이름.append()\n"
      ],
      "metadata": {
        "id": "NFUFwvUiA-mj"
      }
    },
    {
      "cell_type": "markdown",
      "source": [
        "##**2.1 내장함수**\n",
        "\n",
        "*   len(리스트) : 리스트 길이\n",
        "* max(리스트) : 리스트내의 max 값\n",
        "* min(리스트) : 리스트내의 min 값\n",
        "\n",
        "\n"
      ],
      "metadata": {
        "id": "z7AApIlt8Pzq"
      }
    },
    {
      "cell_type": "code",
      "source": [
        "temps = [28, 31, 33 , 35, 27, 26, 25]\n",
        "print(f'temps = {temps}')\n",
        "\n",
        "# 내장 함수\n",
        "print(f'리스트 길이 = {len(temps)}')\n",
        "print(f'리스트내 max 값 = {max(temps)}')\n",
        "print(f'리스트내 min 값 = {min(temps)}')"
      ],
      "metadata": {
        "id": "5na-_l808Xdq",
        "colab": {
          "base_uri": "https://localhost:8080/"
        },
        "outputId": "ba4dbcd6-87dc-4e05-da95-1fa7552db1f5"
      },
      "execution_count": 22,
      "outputs": [
        {
          "output_type": "stream",
          "name": "stdout",
          "text": [
            "temps = [28, 31, 33, 35, 27, 26, 25]\n",
            "리스트 길이 = 7\n",
            "리스트내 max 값 = 35\n",
            "리스트내 min 값 = 25\n"
          ]
        }
      ]
    },
    {
      "cell_type": "markdown",
      "source": [
        "##**2.2 메소드**\n",
        "객체 = 메소드(함수) + 변수\n",
        "\n",
        "*  리스트.append(값) : 리스트에 요소 값 추가\n"
      ],
      "metadata": {
        "id": "M392tgfK8wNr"
      }
    },
    {
      "cell_type": "code",
      "source": [
        "# 메소드 - append(값) : 리스트에 요소 값 추가\n",
        "list1 = []\n",
        "print(f' #  빈리스트 list1 = {list1}')\n",
        "# for 1 ~ 10까지 - list1에 1~10 요소를 추가 - 메소드 append\n",
        "for i in range(1, 6) :\n",
        "    list1.append(i)\n",
        "    print(f' # list1.append[{i}] 수행 후 list1 = {list1}')"
      ],
      "metadata": {
        "colab": {
          "base_uri": "https://localhost:8080/"
        },
        "id": "IDBYdD4Y87fy",
        "outputId": "6ac0dfb2-f82c-4f15-bc49-cbedffd95da8"
      },
      "execution_count": 31,
      "outputs": [
        {
          "output_type": "stream",
          "name": "stdout",
          "text": [
            " #  빈리스트 list1 = []\n",
            " # list1.append[1] 수행 후 list1 = [1]   \n",
            " # list1.append[2] 수행 후 list1 = [1, 2]   \n",
            " # list1.append[3] 수행 후 list1 = [1, 2, 3]   \n",
            " # list1.append[4] 수행 후 list1 = [1, 2, 3, 4]   \n",
            " # list1.append[5] 수행 후 list1 = [1, 2, 3, 4, 5]   \n"
          ]
        }
      ]
    }
  ]
}