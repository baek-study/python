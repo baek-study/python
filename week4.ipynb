{
  "cells": [
    {
      "cell_type": "markdown",
      "metadata": {
        "id": "view-in-github",
        "colab_type": "text"
      },
      "source": [
        "<a href=\"https://colab.research.google.com/github/baek-study/python/blob/main/week4.ipynb\" target=\"_parent\"><img src=\"https://colab.research.google.com/assets/colab-badge.svg\" alt=\"Open In Colab\"/></a>"
      ]
    },
    {
      "cell_type": "markdown",
      "id": "83aac935-dd32-40e9-8e14-ac8ea63a8da9",
      "metadata": {
        "id": "83aac935-dd32-40e9-8e14-ac8ea63a8da9"
      },
      "source": [
        "# **1부 문자열 생성 및 조작**\n",
        "문자열 생성하기, 문자열 처리(인덱싱, 슬라이싱, +, *, in)"
      ]
    },
    {
      "cell_type": "markdown",
      "source": [
        "## **1.1 문자열 생성하기**\n",
        "한줄 생성, 여러줄 생성, 이스케이프 문자(역슬래시) 이용"
      ],
      "metadata": {
        "id": "oU9cd1P8YI3l"
      },
      "id": "oU9cd1P8YI3l"
    },
    {
      "cell_type": "code",
      "execution_count": 1,
      "id": "f44ab937-ed41-4721-be4b-19eb096ac196",
      "metadata": {
        "colab": {
          "base_uri": "https://localhost:8080/"
        },
        "id": "f44ab937-ed41-4721-be4b-19eb096ac196",
        "outputId": "dc596353-a259-4651-d0e9-7f4675deb9e5"
      },
      "outputs": [
        {
          "output_type": "stream",
          "name": "stdout",
          "text": [
            "Hello\n",
            "hello\n",
            " 난생처음\n",
            "파이썬을\n",
            "열공 중입니다\n",
            " 난생처음\n",
            "파이썬을\n",
            "열공 중입니다 \n",
            "\t탭키\n",
            "줄바꿈'강조'효과\n",
            "파이썬 프로그램 입문은 정말 재미있습니다\n"
          ]
        }
      ],
      "source": [
        "## 한줄 생성하기 - 큰따옴표 or 작은 따옴표\n",
        "var1 = \"Hello\"\n",
        "var2 = 'hello'\n",
        "## 여러줄 생성하기 - 삼중 킁 따옴표 or 삼중 작은 따옴표\n",
        "var3 = \"\"\" 난생처음\n",
        "파이썬을\n",
        "열공 중입니다\"\"\"\n",
        "var4 = ''' 난생처음\n",
        "파이썬을\n",
        "열공 중입니다 '''\n",
        "## 이스케이프 문자 - 역슬래시(\\) 이용\n",
        "var5 = '\\t탭키\\n줄바꿈\\'강조\\'효과'\n",
        "## 소스가 길어질때 \\ 시용 - 여전히 한줄\n",
        "var6 = '파이썬 프로그램 입문은 \\\n",
        "정말 재미있습니다'\n",
        "print(var1, var2, var3, var4, var5, var6, sep= '\\n')"
      ]
    },
    {
      "cell_type": "markdown",
      "id": "684b3bf8-d2ad-4df9-96c2-5c7df13a356d",
      "metadata": {
        "id": "684b3bf8-d2ad-4df9-96c2-5c7df13a356d"
      },
      "source": [
        "## **1.2 문자열 처리**\n",
        "인덱싱, 슬라이싱, 연산(+, *, in)"
      ]
    },
    {
      "cell_type": "code",
      "execution_count": null,
      "id": "d1bf7b60-17e0-4ef0-8880-139f1ea2aa60",
      "metadata": {
        "id": "d1bf7b60-17e0-4ef0-8880-139f1ea2aa60",
        "outputId": "c3fd6134-3422-4996-c7ed-5290e006ffbc"
      },
      "outputs": [
        {
          "name": "stdout",
          "output_type": "stream",
          "text": [
            "안\n",
            "요\n"
          ]
        }
      ],
      "source": [
        "## 1. 인덱싱 : [index] 특정위치 반환 - 0 부터 시작\n",
        "msg = '안녕하세요'\n",
        "print(msg[0])\n",
        "print(msg[-1])   # -1는 끝에서 부터 .."
      ]
    },
    {
      "cell_type": "code",
      "execution_count": null,
      "id": "41cb71ed-c521-4431-aa33-76db45ff3b52",
      "metadata": {
        "id": "41cb71ed-c521-4431-aa33-76db45ff3b52",
        "outputId": "dd2dd87a-1889-4d11-803a-9ffa8f5c8fdb"
      },
      "outputs": [
        {
          "name": "stdout",
          "output_type": "stream",
          "text": [
            "안녕\n",
            "하세요\n",
            "안하요\n"
          ]
        }
      ],
      "source": [
        "## 2. 슬라이싱 : [start:end:step] 시작부터 끝 직전(끝-1) 위치까지 부분 문자열 반환\n",
        "msg = '안녕하세요'\n",
        "print(msg[0:2])  # print(msg[:2]) - 시작 생략 : 문자열 첫 문자부터\n",
        "print(msg[2:5])  # print(msg[2:]) - 끝 생략 : 문자열 마지막 문자까지\n",
        "print(msg[0:5:2]) # 디폴트는 1."
      ]
    },
    {
      "cell_type": "code",
      "execution_count": null,
      "id": "8bb38594-fdab-4c56-8621-cfdd70d08ead",
      "metadata": {
        "id": "8bb38594-fdab-4c56-8621-cfdd70d08ead",
        "outputId": "847a42c6-eee0-4745-e255-c68a958cc639"
      },
      "outputs": [
        {
          "name": "stdout",
          "output_type": "stream",
          "text": [
            "안녕하세요\n",
            "안녕안녕안녕\n",
            "True\n",
            "False\n"
          ]
        }
      ],
      "source": [
        "## 3. 문자열 연산 +, *, in\n",
        "msg1, msg2 = '안녕', '하세요'  # 다중 할당문\n",
        "print(msg1+msg2)     # + : 문자간 연결\n",
        "print(msg1*3)        # *  : 반복\n",
        "print('안' in msg1)  # in : 포함되었는지\n",
        "print('안' not in msg1)  # not int : 포함되지 않았는지"
      ]
    },
    {
      "cell_type": "markdown",
      "id": "335e40c1-a3dc-4ba9-b1a3-7b28e7696a01",
      "metadata": {
        "id": "335e40c1-a3dc-4ba9-b1a3-7b28e7696a01"
      },
      "source": [
        "# **2부 문자열 서식(Formatting)**\n",
        "F-문자열(최근버전), % 기호 사횽, .format() 함수"
      ]
    },
    {
      "cell_type": "code",
      "execution_count": null,
      "id": "cb846089-c4dd-43cc-ba29-29f8cbcf816d",
      "metadata": {
        "id": "cb846089-c4dd-43cc-ba29-29f8cbcf816d",
        "outputId": "13676f02-332a-452c-fa66-8984f93efa18"
      },
      "outputs": [
        {
          "name": "stdout",
          "output_type": "stream",
          "text": [
            "1 2 3\n",
            "a b c\n",
            "1 2 3\n",
            "1 2 3\n",
            "a b c\n"
          ]
        }
      ],
      "source": [
        "# 화면 출력 하는 5가지 방법 !!!\n",
        "print(1, 2, 3)   # 여러개 인수 출력\n",
        "print(\"a\" + \" \" + \"b\" + \" \" + \"c\") # 연산자 이용 - 한개 인수\n",
        "print(f\"{1} {2} {3}\") # f-문자열 서식 이용\n",
        "print(\"%d %d %d\" % (1, 2, 3)) # % 기호 이용\n",
        "print(\"{} {} {}\".format(\"a\", \"b\", \"c\")) # format() 함수 이용"
      ]
    },
    {
      "cell_type": "markdown",
      "id": "55c51d1b-22f7-4fe7-b0e2-8c0fd9a06ad4",
      "metadata": {
        "id": "55c51d1b-22f7-4fe7-b0e2-8c0fd9a06ad4"
      },
      "source": [
        "## **2.1 F-문자열**\n",
        "f'.... {값/변수/수식} ....'  # f 문자 쓰고, 문자열 안에 { } 사용\n",
        "- 기본방식 - 값/변수/수식\n",
        "- 형식지정 - 정수 : d, 실수 : f, 문자 : s, 실수(지수) : e\n",
        "- 자릿수 - {name:10d}\n",
        "- 정밀도(소수점 몇자리) - {3.145:.2f}"
      ]
    },
    {
      "cell_type": "code",
      "execution_count": 2,
      "id": "ffb61571-3e29-4a28-97b0-8292ce18a3e3",
      "metadata": {
        "colab": {
          "base_uri": "https://localhost:8080/"
        },
        "id": "ffb61571-3e29-4a28-97b0-8292ce18a3e3",
        "outputId": "81ef4f49-9ff7-414e-ab5c-ba2b1c9f6b84"
      },
      "outputs": [
        {
          "output_type": "stream",
          "name": "stdout",
          "text": [
            "hello!, alice! you are 25 years old! 8\n",
            "형식지정 - 10진 25 또는 25, 2진 11001, 8진 31, 16진 19 \n",
            "실수표현 - 기본 표현 32.123400, 지수 표현3.212340e+01\n",
            "자리수&정렬 - 기본 변환 15, 다섯자리    15, 왼쪽정렬 15   , 가운데정렬  15  , 0채우기 00015\n",
            "정밀도 - 소수점 2자리 3.14, 소수점포함 전체 5자리  3.14\n"
          ]
        }
      ],
      "source": [
        "name ='alice'\n",
        "print(f'hello!, {name}! you are {25} years old! {3+5}') # 변수, 값, 수식\n",
        "print(f'형식지정 - 10진 {25} 또는 {25:d}, 2진 {25:b}, 8진 {25:o}, 16진 {25:x} ') # 정수의 다양한 표시\n",
        "print(f'실수표현 - 기본 표현 {32.1234:f}, 지수 표현{32.1234:e}') # 소수 표현\n",
        "print(f'자리수&정렬 - 기본 변환 {15:d}, 다섯자리 {15:5d}, 왼쪽정렬 {15:<5d}, 가운데정렬 {15:^5d}, 0채우기 {15:05d}')\n",
        "print(f'정밀도 - 소수점 2자리 {3.14159265:.2f}, 소수점포함 전체 5자리 {3.14159265:5.2f}')"
      ]
    },
    {
      "cell_type": "markdown",
      "source": [
        "##  **2.2 % 기호 사용한 서식**"
      ],
      "metadata": {
        "id": "ZiBvyDuzaCqF"
      },
      "id": "ZiBvyDuzaCqF"
    },
    {
      "cell_type": "code",
      "execution_count": 3,
      "id": "bd77d0f9-62e9-4035-b120-0e7e629b153e",
      "metadata": {
        "colab": {
          "base_uri": "https://localhost:8080/"
        },
        "id": "bd77d0f9-62e9-4035-b120-0e7e629b153e",
        "outputId": "566b4305-4053-4cec-cebe-84f38b7344e0"
      },
      "outputs": [
        {
          "output_type": "stream",
          "name": "stdout",
          "text": [
            "I ate 3 apples\n",
            "I ate 3 apples, I was sick for five days.\n"
          ]
        }
      ],
      "source": [
        "num = 3\n",
        "print('I ate %d apples' % num) # 한개 일때\n",
        "print('I ate %d apples, I was sick for %s days.' % (num, \"five\")) # 2 개일떄 꼭 호호\n"
      ]
    },
    {
      "cell_type": "markdown",
      "source": [
        "## 2.3 **format 함수 이용한 서식**"
      ],
      "metadata": {
        "id": "1gaOMDoRaOlz"
      },
      "id": "1gaOMDoRaOlz"
    },
    {
      "cell_type": "code",
      "source": [
        "print('I ate {} apples, I was sick for {} days.'.format(num, \"five\")) # 순서대로 매핑\n",
        "print('I ate {0} apples, I was sick for {1} days.'.format(num, \"five\")) # 인덱스 이용\n",
        "print('I ate {1} apples, I was sick for {0} days.'.format(num, \"five\")) # 인덱스에 맞춰 매핑"
      ],
      "metadata": {
        "colab": {
          "base_uri": "https://localhost:8080/"
        },
        "id": "JUPcwO6IaVUE",
        "outputId": "139f41b0-96ee-478a-b444-fa7e5009137c"
      },
      "id": "JUPcwO6IaVUE",
      "execution_count": 5,
      "outputs": [
        {
          "output_type": "stream",
          "name": "stdout",
          "text": [
            "I ate 3 apples, I was sick for five days.\n",
            "I ate 3 apples, I was sick for five days.\n",
            "I ate five apples, I was sick for 3 days.\n"
          ]
        }
      ]
    },
    {
      "cell_type": "markdown",
      "id": "80d2e72b-8f8d-4da7-acf7-3f2f7a80d17f",
      "metadata": {
        "id": "80d2e72b-8f8d-4da7-acf7-3f2f7a80d17f"
      },
      "source": [
        "# **3부 함수 - 메소드**\n",
        "\n",
        "*   내장함수 - len(s), max(s), min(s)\n",
        "*   문자열 메소드 - s.split(), s.count(), s.find(), s.replace()"
      ]
    },
    {
      "cell_type": "markdown",
      "source": [
        "## **3.1 내장 함수**"
      ],
      "metadata": {
        "id": "brq-rwRja4NX"
      },
      "id": "brq-rwRja4NX"
    },
    {
      "cell_type": "code",
      "execution_count": 6,
      "id": "fd810478-3915-41fa-a9bf-772aa80d9081",
      "metadata": {
        "colab": {
          "base_uri": "https://localhost:8080/"
        },
        "id": "fd810478-3915-41fa-a9bf-772aa80d9081",
        "outputId": "ece9a769-42ec-4d67-db0b-d0bf884db7ba"
      },
      "outputs": [
        {
          "output_type": "stream",
          "name": "stdout",
          "text": [
            "길이는 13 가장 큰 문자 [프] 가장 작은 문자 [ ]\n"
          ]
        }
      ],
      "source": [
        "msg = '파이썬 프로그램은 재밌다'\n",
        "print(f'길이는 {len(msg)} 가장 큰 문자 [{max(msg)}] 가장 작은 문자 [{min(msg)}]')"
      ]
    },
    {
      "cell_type": "markdown",
      "source": [
        "## **3.2 메소드**"
      ],
      "metadata": {
        "id": "KtgwQxn8bDF-"
      },
      "id": "KtgwQxn8bDF-"
    },
    {
      "cell_type": "code",
      "execution_count": null,
      "id": "324f3a5d-32b4-4664-933a-ebbb15dffd8c",
      "metadata": {
        "id": "324f3a5d-32b4-4664-933a-ebbb15dffd8c",
        "outputId": "99c2b19f-4ea8-43c1-aa57-549f19e6962e"
      },
      "outputs": [
        {
          "name": "stdout",
          "output_type": "stream",
          "text": [
            "The python programming is fun\n",
            "2    0\n",
            "4    -1\n",
            "The 파이썬 programming is fun\n"
          ]
        }
      ],
      "source": [
        "msg = 'The python programming is fun'\n",
        "w1, w2, w3, w4, w5 = msg.split()\n",
        "print(w1, w2, w3, w4, w5)\n",
        "print(msg.count('p'),'  ', msg.count('px'))\n",
        "print(msg.find('p'),'  ', msg.find('x'))\n",
        "print(msg.replace('python', '파이썬'))"
      ]
    }
  ],
  "metadata": {
    "kernelspec": {
      "display_name": "Python 3 (ipykernel)",
      "language": "python",
      "name": "python3"
    },
    "language_info": {
      "codemirror_mode": {
        "name": "ipython",
        "version": 3
      },
      "file_extension": ".py",
      "mimetype": "text/x-python",
      "name": "python",
      "nbconvert_exporter": "python",
      "pygments_lexer": "ipython3",
      "version": "3.12.4"
    },
    "colab": {
      "provenance": [],
      "toc_visible": true,
      "include_colab_link": true
    }
  },
  "nbformat": 4,
  "nbformat_minor": 5
}