{
  "nbformat": 4,
  "nbformat_minor": 0,
  "metadata": {
    "colab": {
      "provenance": [],
      "authorship_tag": "ABX9TyPQF6KAHMaogkJzl1hxqVt8",
      "include_colab_link": true
    },
    "kernelspec": {
      "name": "python3",
      "display_name": "Python 3"
    },
    "language_info": {
      "name": "python"
    }
  },
  "cells": [
    {
      "cell_type": "markdown",
      "metadata": {
        "id": "view-in-github",
        "colab_type": "text"
      },
      "source": [
        "<a href=\"https://colab.research.google.com/github/baek-study/python/blob/main/week7.ipynb\" target=\"_parent\"><img src=\"https://colab.research.google.com/assets/colab-badge.svg\" alt=\"Open In Colab\"/></a>"
      ]
    },
    {
      "cell_type": "markdown",
      "source": [
        "# **PART 1 : 중첩 for 문**\n",
        "*   for 변수 in 범위표현 : <br>\n",
        "&emsp;&emsp; for 변수 in 범위표현 :  <br>\n",
        "&emsp;&emsp;&emsp;&emsp;문장들\n"
      ],
      "metadata": {
        "id": "JkstR5lcSyBK"
      }
    },
    {
      "cell_type": "code",
      "source": [
        "for height in range(5):\n",
        "    for width in range(5):\n",
        "        print('*', end = '') # 바로옆에 출력 - 키워드 end\n",
        "    print()                  # 다음줄에 출력"
      ],
      "metadata": {
        "colab": {
          "base_uri": "https://localhost:8080/"
        },
        "id": "tItAIfR9Tizx",
        "outputId": "7d6cf0d6-285d-4b23-cb3c-c1f837131a45"
      },
      "execution_count": 1,
      "outputs": [
        {
          "output_type": "stream",
          "name": "stdout",
          "text": [
            "*****\n",
            "*****\n",
            "*****\n",
            "*****\n",
            "*****\n"
          ]
        }
      ]
    },
    {
      "cell_type": "code",
      "source": [
        "# 구구단 출력:\n",
        "for dan in range(2, 10):\n",
        "    print(f'*****{dan}단*******')\n",
        "    for gob in range(1, 10):\n",
        "        print(f'{dan}*{gob} = {dan*gob}')\n",
        "print('end')"
      ],
      "metadata": {
        "id": "ubkitJEZTwRJ"
      },
      "execution_count": null,
      "outputs": []
    },
    {
      "cell_type": "markdown",
      "source": [
        "# **PART 2 : 보조 제어문**\n",
        "\n",
        "\n",
        "## **2.1 무한 루프**\n",
        "*  while TRUE : <br>\n",
        "&emsp;문장들 :  <br>\n",
        "\n"
      ],
      "metadata": {
        "id": "LfcIw3B0UYQo"
      }
    },
    {
      "cell_type": "code",
      "source": [
        "while True:\n",
        "    password = input('암호를 입력하시오 ')\n",
        "    print(f'{password}', end = ' ')"
      ],
      "metadata": {
        "id": "sbpdvBH3VEG5"
      },
      "execution_count": null,
      "outputs": []
    },
    {
      "cell_type": "markdown",
      "source": [
        "## **2.2 보조제어 break**\n",
        "- 반복문 탈출"
      ],
      "metadata": {
        "id": "wJYG14r7VWYU"
      }
    },
    {
      "cell_type": "code",
      "source": [
        "while True:\n",
        "    password = input('암호를 입력하시오 ')\n",
        "    # password가 '#1234'면 문이 열렸습니다. 출력, 반복문을 빠져나오기\n",
        "    if password == '#1234':\n",
        "        print(f'{password}-문이 열렸습니다.')\n",
        "        break"
      ],
      "metadata": {
        "colab": {
          "base_uri": "https://localhost:8080/"
        },
        "id": "9LxEmNtPVVmp",
        "outputId": "bd0bea4d-6652-4b63-9380-060b81b6d621"
      },
      "execution_count": 3,
      "outputs": [
        {
          "output_type": "stream",
          "name": "stdout",
          "text": [
            "암호를 입력하시오 12\n",
            "암호를 입력하시오 #1234\n",
            "#1234-문이 열렸습니다.\n"
          ]
        }
      ]
    },
    {
      "cell_type": "markdown",
      "source": [
        "## **2.3 보조제어 continue**\n",
        "- continue 이후 문장을 무시하고 다시 반복문 시작"
      ],
      "metadata": {
        "id": "ZaLVSAu5Vrtg"
      }
    },
    {
      "cell_type": "code",
      "source": [
        "for i in range(1, 100):\n",
        "    if i%2 == 0 :  # 짝수이면\n",
        "        continue\n",
        "    print(f'{i} ', end = '')"
      ],
      "metadata": {
        "colab": {
          "base_uri": "https://localhost:8080/"
        },
        "id": "asqdG_wLVQdR",
        "outputId": "0ec05413-ac52-439f-c688-6038fbe585f4"
      },
      "execution_count": 4,
      "outputs": [
        {
          "output_type": "stream",
          "name": "stdout",
          "text": [
            "1 3 5 7 9 11 13 15 17 19 21 23 25 27 29 31 33 35 37 39 41 43 45 47 49 51 53 55 57 59 61 63 65 67 69 71 73 75 77 79 81 83 85 87 89 91 93 95 97 99 "
          ]
        }
      ]
    },
    {
      "cell_type": "markdown",
      "source": [
        "## **2.4 while를 이용한 메뉴 작성**"
      ],
      "metadata": {
        "id": "Z2s9i2SoV_F3"
      }
    },
    {
      "cell_type": "code",
      "source": [
        "# 1. 무한루프 작동\n",
        "while True:\n",
        "   # 2. 사용자 입력 - number\n",
        "   number = input('메뉴를 입력하시오 :')\n",
        "   number = int(number)\n",
        "\n",
        "  #3. 탈출 구문 - number 가 0 이면 탈출\n",
        "   if number == 0:\n",
        "       break\n",
        "\n",
        "   #4. 조건에 따라 출력 1-성적입력 2- 평균계산 3-등급계산 출력\n",
        "   if number==1 :\n",
        "       print(f'{number} - 성적입력')\n",
        "   elif number == 2:\n",
        "       print(f'{number} - 평균계산')\n",
        "   elif number == 3:\n",
        "       print(f'{number} - 등급계산')\n",
        "   else :\n",
        "       print('다시 입력하세요....')\n",
        "\n",
        "print('end')"
      ],
      "metadata": {
        "colab": {
          "base_uri": "https://localhost:8080/"
        },
        "id": "6tdZMHJtV-j6",
        "outputId": "a929c083-cc98-4a6e-e637-0be0f3ad85bb"
      },
      "execution_count": 7,
      "outputs": [
        {
          "output_type": "stream",
          "name": "stdout",
          "text": [
            "메뉴를 입력하시오 :2\n",
            "2 - 평균계산\n",
            "메뉴를 입력하시오 :3\n",
            "3 - 등급계산\n",
            "메뉴를 입력하시오 :5\n",
            "다시 입력하세요....\n",
            "메뉴를 입력하시오 :0\n",
            "end\n"
          ]
        }
      ]
    }
  ]
}
